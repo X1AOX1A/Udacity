{
 "cells": [
  {
   "cell_type": "code",
   "execution_count": 41,
   "metadata": {
    "ExecuteTime": {
     "end_time": "2019-12-08T07:35:41.286754Z",
     "start_time": "2019-12-08T07:35:41.259543Z"
    }
   },
   "outputs": [],
   "source": [
    "from sklearn.feature_extraction.text import CountVectorizer\n",
    "import numpy as np\n",
    "import pandas as pd\n",
    "\n",
    "def read_data(path='data'):\n",
    "    print('Loading train data...')\n",
    "    train = pd.read_csv(path+'/train.csv', index_col = 0)\n",
    "\n",
    "    print('Loading test data...')\n",
    "    test = pd.read_csv(path+'/test.csv', index_col = 0)\n",
    "    \n",
    "    print('Loading test data...')\n",
    "    store = pd.read_csv(path+'/store.csv', index_col = 0)\n",
    "    print('  Successfully read data as: train, test, store.\\n')\n",
    "    return train, test, store\n",
    "\n",
    "#----------------data preprocess-----------------#\n",
    "\n",
    "def BOW(Data):\n",
    "    # transform 'PromoInterval' into independent columns\n",
    "    from sklearn.feature_extraction.text import CountVectorizer\n",
    "    count_vector = CountVectorizer()\n",
    "\n",
    "    doc_array = count_vector.fit_transform(Data['PromoInterval'].fillna('NaN')).toarray()\n",
    "    count_vector.get_feature_names()\n",
    "\n",
    "    def normallize(item):\n",
    "        return 'PromoInterval_'+item.capitalize()\n",
    "    columns = list(map(normallize,count_vector.get_feature_names()))\n",
    "\n",
    "    Bow_Matrix = pd.DataFrame(doc_array, columns=columns)\n",
    "\n",
    "    Data[Bow_Matrix.columns] = Bow_Matrix\n",
    "    return Data.drop('PromoInterval', axis=1), Bow_Matrix\n",
    "\n",
    "def extend(Data,extend_data,BOW_key):\n",
    "    Date_to_Date = lambda x: x.day\n",
    "    Date_to_Month = lambda x: x.month\n",
    "    Date_to_Year = lambda x: x.year\n",
    "#     Month_to_Season = dict(zip(np.arange(12)+1, np.repeat(np.arange(4)+1,3)))\n",
    "    # merge data\n",
    "    Data = pd.merge(Data,extend_data,how='left')    \n",
    "    # transform time data('Data') to ['Day','Month','Year']\n",
    "    Data['Date2'] = pd.to_datetime(Data['Date']) \n",
    "    Data['Day'] = Data['Date2'].apply(Date_to_Date)\n",
    "    Data['Month'] = Data['Date2'].apply(Date_to_Month)\n",
    "    Data['Year'] = Data['Date2'].apply(Date_to_Year)\n",
    "#     Data['Season'] = Data['Month'].map(Month_to_Season)\n",
    "    Data.drop(['Date','Date2'], axis=1, inplace=True)\n",
    "    Data = Data[['Store', 'Month', 'Day', 'Year', 'DayOfWeek',\n",
    "     'Open','StateHoliday', 'SchoolHoliday','CompetitionDistance',\n",
    "     'CompetitionOpenTime','StoreType', 'Assortment', 'Promo',\n",
    "     'Promo2', 'Promo2SinceWeek', 'Promo2SinceYear']+BOW_key.to_list()]\n",
    "#     Data = Data[['Store', 'Month', 'Day', 'Year', 'DayOfWeek',\n",
    "#      'Season', 'Open','StateHoliday', 'SchoolHoliday','CompetitionDistance',\n",
    "#      'CompetitionOpenTime','StoreType', 'Assortment', 'Promo',\n",
    "#      'Promo2', 'Promo2SinceWeek', 'Promo2SinceYear']+BOW_key.to_list()]\n",
    "    return Data\n",
    "\n",
    "def one_hot(Data):\n",
    "    # One-Hot on ['StateHoliday', 'Assortment', 'StateHoliday']\n",
    "    index = Data[Data['StateHoliday'] == 0].index\n",
    "    Data.loc[index,['StateHoliday']] = '0'\n",
    "\n",
    "    One_Hot_Matrix = pd.get_dummies(Data[['StoreType','Assortment','StateHoliday']]) \n",
    "    Data[One_Hot_Matrix.columns] = One_Hot_Matrix\n",
    "    Data.drop(['StoreType','Assortment','StateHoliday'], axis=1, inplace=True)\n",
    "    return Data\n",
    "\n",
    "def drop_columns(data):\n",
    "    # 删除 ['PromoInterval_Nan', 'StoreType_d', 'Assortment_c', 'StateHoliday_0'] 防止共线性\n",
    "    data.drop(['PromoInterval_Nan', 'StoreType_d', 'Assortment_c', 'StateHoliday_0'], axis=1, inplace=True)\n",
    "    return data\n",
    "    \n",
    "def scale_data(data):\n",
    "    from sklearn.preprocessing import StandardScaler\n",
    "    scaler = StandardScaler()\n",
    "    col = ['Store','Month','Day','Year','DayOfWeek','CompetitionDistance',\n",
    "             'CompetitionOpenTime','Promo2SinceWeek','Promo2SinceYear']\n",
    "    data[col] = scaler.fit_transform(data[col])\n",
    "    return data\n",
    "    \n",
    "    \n",
    "def train_preprocess(train_data, extend_data):\n",
    "    store_pre, Bow_Matrix = BOW(Data=extend_data)\n",
    "    train_data = extend(train_data.drop(['Sales','Customers'], axis=1), store_pre, Bow_Matrix.columns)\n",
    "    train_data = one_hot(train_data)\n",
    "    train_data = drop_columns(train_data)\n",
    "    train_data = scale_data(train_data)\n",
    "    print('  Successfully preprocess training data.\\n')\n",
    "    return train_data\n",
    "    \n",
    "def test_preprocess(test_data, extend_data):\n",
    "    store_pre, Bow_Matrix = BOW(Data=extend_data)\n",
    "    test_data = extend(test_data.drop('Id', axis=1), store_pre, Bow_Matrix.columns)\n",
    "    test_data = one_hot(test_data)\n",
    "    test_data[['StateHoliday_b', 'StateHoliday_c']] = pd.DataFrame(np.zeros((len(test),2)), \n",
    "                                                               columns=['StateHoliday_b', 'StateHoliday_c'], \n",
    "                                                               dtype='uint8')\n",
    "    test_data = drop_columns(test_data)\n",
    "    test_data = scale_data(test_data)\n",
    "    print('  Successfully preprocess testing data.\\n')\n",
    "    return test_data\n",
    "\n",
    "def data_preprocess(train_data, test_data, extend_data):\n",
    "    print('Preprocessing training data...')\n",
    "    X1 = train_preprocess(train_data, extend_data)\n",
    "    print('Preprocessing testing data...')\n",
    "    X2 = test_preprocess(test_data, extend_data)\n",
    "    y1 = train_data['Sales']\n",
    "    return X1, y1, X2\n",
    "\n",
    "#----------------data preprocess-----------------#"
   ]
  },
  {
   "cell_type": "code",
   "execution_count": 42,
   "metadata": {
    "ExecuteTime": {
     "end_time": "2019-12-08T07:35:57.938080Z",
     "start_time": "2019-12-08T07:35:43.960841Z"
    }
   },
   "outputs": [
    {
     "name": "stdout",
     "output_type": "stream",
     "text": [
      "Loading train data...\n"
     ]
    },
    {
     "name": "stderr",
     "output_type": "stream",
     "text": [
      "//anaconda3/lib/python3.7/site-packages/IPython/core/interactiveshell.py:3249: DtypeWarning: Columns (8) have mixed types. Specify dtype option on import or set low_memory=False.\n",
      "  if (await self.run_code(code, result,  async_=asy)):\n",
      "//anaconda3/lib/python3.7/site-packages/numpy/lib/arraysetops.py:568: FutureWarning: elementwise comparison failed; returning scalar instead, but in the future will perform elementwise comparison\n",
      "  mask |= (ar1 == a)\n"
     ]
    },
    {
     "name": "stdout",
     "output_type": "stream",
     "text": [
      "Loading test data...\n",
      "Loading test data...\n",
      "  Successfully read data as: train, test, store.\n",
      "\n",
      "Preprocessing training data...\n",
      "  Successfully preprocess training data.\n",
      "\n",
      "Preprocessing testing data...\n",
      "  Successfully preprocess testing data.\n",
      "\n"
     ]
    }
   ],
   "source": [
    "train, test, store = read_data()\n",
    "X1, y1, X2 = data_preprocess(train, test, store)"
   ]
  },
  {
   "cell_type": "code",
   "execution_count": null,
   "metadata": {},
   "outputs": [],
   "source": []
  }
 ],
 "metadata": {
  "kernelspec": {
   "display_name": "Python 3",
   "language": "python",
   "name": "python3"
  },
  "language_info": {
   "codemirror_mode": {
    "name": "ipython",
    "version": 3
   },
   "file_extension": ".py",
   "mimetype": "text/x-python",
   "name": "python",
   "nbconvert_exporter": "python",
   "pygments_lexer": "ipython3",
   "version": "3.7.3"
  },
  "toc": {
   "base_numbering": 1,
   "nav_menu": {},
   "number_sections": true,
   "sideBar": true,
   "skip_h1_title": false,
   "title_cell": "Table of Contents",
   "title_sidebar": "Contents",
   "toc_cell": false,
   "toc_position": {},
   "toc_section_display": true,
   "toc_window_display": false
  },
  "varInspector": {
   "cols": {
    "lenName": 16,
    "lenType": 16,
    "lenVar": 40
   },
   "kernels_config": {
    "python": {
     "delete_cmd_postfix": "",
     "delete_cmd_prefix": "del ",
     "library": "var_list.py",
     "varRefreshCmd": "print(var_dic_list())"
    },
    "r": {
     "delete_cmd_postfix": ") ",
     "delete_cmd_prefix": "rm(",
     "library": "var_list.r",
     "varRefreshCmd": "cat(var_dic_list()) "
    }
   },
   "types_to_exclude": [
    "module",
    "function",
    "builtin_function_or_method",
    "instance",
    "_Feature"
   ],
   "window_display": false
  }
 },
 "nbformat": 4,
 "nbformat_minor": 2
}
