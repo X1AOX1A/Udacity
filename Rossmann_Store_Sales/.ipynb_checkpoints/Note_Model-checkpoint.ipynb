{
 "cells": [
  {
   "cell_type": "markdown",
   "metadata": {},
   "source": [
    "# 数据准备\n",
    "\n",
    "## 数据预处理"
   ]
  },
  {
   "cell_type": "code",
   "execution_count": 1,
   "metadata": {
    "ExecuteTime": {
     "end_time": "2019-12-12T10:47:26.705758Z",
     "start_time": "2019-12-12T10:47:24.205013Z"
    }
   },
   "outputs": [],
   "source": [
    "import numpy as np\n",
    "import pandas as pd\n",
    "import matplotlib.pyplot as plt\n",
    "import seaborn as sns\n",
    "import joblib\n",
    "%config InlineBackend.figure_format='retina'"
   ]
  },
  {
   "cell_type": "code",
   "execution_count": 2,
   "metadata": {
    "ExecuteTime": {
     "end_time": "2019-12-12T10:47:42.324572Z",
     "start_time": "2019-12-12T10:47:26.708570Z"
    },
    "scrolled": false
   },
   "outputs": [
    {
     "name": "stdout",
     "output_type": "stream",
     "text": [
      "Loading train data...\n"
     ]
    },
    {
     "name": "stderr",
     "output_type": "stream",
     "text": [
      "//anaconda3/lib/python3.7/site-packages/numpy/lib/arraysetops.py:568: FutureWarning: elementwise comparison failed; returning scalar instead, but in the future will perform elementwise comparison\n",
      "  mask |= (ar1 == a)\n"
     ]
    },
    {
     "name": "stdout",
     "output_type": "stream",
     "text": [
      "Loading test data...\n",
      "Loading store data...\n",
      "  Successfully read data as: train, test, store.\n",
      "\n",
      "Preprocessing training data...\n",
      "  Successfully preprocess training data.\n",
      "\n",
      "Preprocessing testing data...\n",
      "  Successfully preprocess testing data.\n",
      "\n"
     ]
    },
    {
     "name": "stderr",
     "output_type": "stream",
     "text": [
      "//anaconda3/lib/python3.7/site-packages/pandas/core/indexing.py:190: SettingWithCopyWarning: \n",
      "A value is trying to be set on a copy of a slice from a DataFrame\n",
      "\n",
      "See the caveats in the documentation: http://pandas.pydata.org/pandas-docs/stable/indexing.html#indexing-view-versus-copy\n",
      "  self._setitem_with_indexer(indexer, value)\n"
     ]
    }
   ],
   "source": [
    "from help import read_data, data_preprocess\n",
    "train, test, store = read_data()\n",
    "X, y, X_predict = data_preprocess(train, test, store)\n",
    "y.loc[y==0] = 10**(-100)\n",
    "y.loc[:] = np.log(y)\n",
    "del train, test, store"
   ]
  },
  {
   "cell_type": "markdown",
   "metadata": {},
   "source": [
    "## 数据划分"
   ]
  },
  {
   "cell_type": "code",
   "execution_count": 3,
   "metadata": {
    "ExecuteTime": {
     "end_time": "2019-12-12T10:47:43.103302Z",
     "start_time": "2019-12-12T10:47:42.329528Z"
    }
   },
   "outputs": [],
   "source": [
    "from sklearn.model_selection import train_test_split\n",
    "X_train, X_test, y_train, y_test = train_test_split(X, y, random_state=520)"
   ]
  },
  {
   "cell_type": "markdown",
   "metadata": {},
   "source": [
    "# 变量选择"
   ]
  },
  {
   "cell_type": "markdown",
   "metadata": {},
   "source": [
    "## Lasso"
   ]
  },
  {
   "cell_type": "code",
   "execution_count": 4,
   "metadata": {
    "ExecuteTime": {
     "end_time": "2019-12-12T10:47:48.842760Z",
     "start_time": "2019-12-12T10:47:43.105560Z"
    }
   },
   "outputs": [
    {
     "name": "stdout",
     "output_type": "stream",
     "text": [
      "LassoCV Best Alpha Scored:  0.005\n",
      "LassoCV Model Accuracy:  0.9996231057518093\n",
      "Variables Eliminated:  17\n",
      "Variables Kept:  16\n"
     ]
    },
    {
     "data": {
      "text/plain": [
       "Index(['Month', 'Year', 'DayOfWeek', 'Open', 'CompetitionDistance',\n",
       "       'CompetitionOpenTime', 'Promo', 'Promo2', 'Promo2SinceWeek',\n",
       "       'Promo2SinceYear', 'PromoInterval_Dec', 'PromoInterval_Jun',\n",
       "       'PromoInterval_Mar', 'PromoInterval_Sept', 'StoreType_a',\n",
       "       'Assortment_a'],\n",
       "      dtype='object')"
      ]
     },
     "execution_count": 4,
     "metadata": {},
     "output_type": "execute_result"
    }
   ],
   "source": [
    "from sklearn.linear_model import LassoCV\n",
    "regr = LassoCV(cv=5,random_state=101,alphas=[0.005])\n",
    "regr.fit(X_train,y_train)\n",
    "print(\"LassoCV Best Alpha Scored: \", regr.alpha_)\n",
    "print(\"LassoCV Model Accuracy: \", regr.score(X_test, y_test))\n",
    "print(\"Variables Eliminated: \", sum(regr.coef_==0))\n",
    "print(\"Variables Kept: \", sum(regr.coef_!=0))\n",
    "X.columns[regr.coef_!=0]"
   ]
  },
  {
   "cell_type": "code",
   "execution_count": 5,
   "metadata": {
    "ExecuteTime": {
     "end_time": "2019-12-12T10:47:49.384716Z",
     "start_time": "2019-12-12T10:47:48.848936Z"
    }
   },
   "outputs": [],
   "source": [
    "X_reduce = X[X.columns[regr.coef_!=0]]\n",
    "X_train_reduce, X_test_reduce, y_train, y_test = train_test_split(X_reduce, y, random_state=520)"
   ]
  },
  {
   "cell_type": "markdown",
   "metadata": {},
   "source": [
    "# 模型\n",
    "\n",
    "[定义评分函数：](https://www.cnblogs.com/harvey888/p/6964741.html)"
   ]
  },
  {
   "cell_type": "code",
   "execution_count": 6,
   "metadata": {
    "ExecuteTime": {
     "end_time": "2019-12-12T10:47:49.405685Z",
     "start_time": "2019-12-12T10:47:49.388517Z"
    }
   },
   "outputs": [],
   "source": [
    "from help import rmspe\n",
    "from sklearn.metrics import make_scorer\n",
    "respe_scorer = make_scorer(rmspe, greater_is_better=False)"
   ]
  },
  {
   "cell_type": "markdown",
   "metadata": {},
   "source": [
    "## 多元回归"
   ]
  },
  {
   "cell_type": "markdown",
   "metadata": {},
   "source": [
    "### 线性回归*"
   ]
  },
  {
   "cell_type": "code",
   "execution_count": 7,
   "metadata": {
    "ExecuteTime": {
     "end_time": "2019-12-12T10:47:52.014933Z",
     "start_time": "2019-12-12T10:47:49.411891Z"
    },
    "scrolled": true
   },
   "outputs": [
    {
     "name": "stdout",
     "output_type": "stream",
     "text": [
      "Fitting model...\n",
      "  Done!  \n",
      "  Using time: 1 sec\n",
      "\n",
      "Saving model...\n",
      "  The Model have been save in  ['Model_Parameter/Linear_Model.pkl']\n",
      "    PS: To load model, use command: 'Model = joblib.load(FileName)'.\n",
      "  Using time: 0 sec\n",
      "\n",
      "Calculating train score...\n",
      "  Train rmspe score: 0.03993\n",
      "  Using time: 0 sec\n",
      "\n",
      "Calculating test score...\n",
      "  Test rmspe score: 0.03965\n",
      "  Using time: 0 sec\n",
      "\n"
     ]
    }
   ],
   "source": [
    "from sklearn.linear_model import LinearRegression\n",
    "Linear_Model = LinearRegression()\n",
    "\n",
    "import datetime\n",
    "starttime = datetime.datetime.now()\n",
    "print('Fitting model...')\n",
    "Linear_Model.fit(X_train, y_train)\n",
    "endtime = datetime.datetime.now()\n",
    "print('  Done!  \\n  Using time:',(endtime - starttime).seconds,'sec\\n')\n",
    "\n",
    "Model = Linear_Model\n",
    "FileName = 'Linear_Model'\n",
    "from help import save_model\n",
    "save_model(Model, FileName, Best_Model=False)\n",
    "\n",
    "from help import train_test_score\n",
    "train_test_score(Model, X=X, y=y)"
   ]
  },
  {
   "cell_type": "markdown",
   "metadata": {},
   "source": [
    "***"
   ]
  },
  {
   "cell_type": "code",
   "execution_count": 8,
   "metadata": {
    "ExecuteTime": {
     "end_time": "2019-12-12T10:47:53.230709Z",
     "start_time": "2019-12-12T10:47:52.025907Z"
    }
   },
   "outputs": [
    {
     "name": "stdout",
     "output_type": "stream",
     "text": [
      "Fitting model...\n",
      "  Done!  \n",
      "  Using time: 0 sec\n",
      "\n",
      "Saving model...\n",
      "  The Model have been save in  ['Model_Parameter/Linear_Model_reduce.pkl']\n",
      "    PS: To load model, use command: 'Model = joblib.load(FileName)'.\n",
      "  Using time: 0 sec\n",
      "\n",
      "Calculating train score...\n",
      "  Train rmspe score: 0.04027\n",
      "  Using time: 0 sec\n",
      "\n",
      "Calculating test score...\n",
      "  Test rmspe score: 0.03997\n",
      "  Using time: 0 sec\n",
      "\n"
     ]
    }
   ],
   "source": [
    "from sklearn.linear_model import LinearRegression\n",
    "Linear_Model_reduce = LinearRegression()\n",
    "\n",
    "import datetime\n",
    "starttime = datetime.datetime.now()\n",
    "print('Fitting model...')\n",
    "Linear_Model_reduce.fit(X_train_reduce, y_train)\n",
    "endtime = datetime.datetime.now()\n",
    "print('  Done!  \\n  Using time:',(endtime - starttime).seconds,'sec\\n')\n",
    "\n",
    "Model = Linear_Model_reduce\n",
    "FileName = 'Linear_Model_reduce'\n",
    "from help import save_model\n",
    "save_model(Model, FileName, Best_Model=False)\n",
    "\n",
    "from help import train_test_score\n",
    "train_test_score(Model, X=X_reduce, y=y)"
   ]
  },
  {
   "cell_type": "markdown",
   "metadata": {},
   "source": [
    "### 多项式回归*"
   ]
  },
  {
   "cell_type": "code",
   "execution_count": 9,
   "metadata": {
    "ExecuteTime": {
     "end_time": "2019-12-12T10:54:36.426577Z",
     "start_time": "2019-12-12T10:47:53.235575Z"
    }
   },
   "outputs": [
    {
     "name": "stdout",
     "output_type": "stream",
     "text": [
      "Fitting model...\n",
      "  Done!  \n",
      "  Using time: 261 sec\n",
      "\n",
      "Saving model...\n",
      "  The Model have been save in  ['Model_Parameter/Ploy_Res_Model.pkl']\n",
      "    PS: To load model, use command: 'Model = joblib.load(FileName)'.\n",
      "  Using time: 0 sec\n",
      "\n",
      "Calculating train score...\n",
      "  Train rmspe score: 0.03219\n",
      "  Using time: 1 sec\n",
      "\n",
      "Calculating test score...\n",
      "  Test rmspe score: 416808826.33454\n",
      "  Using time: 139 sec\n",
      "\n"
     ]
    }
   ],
   "source": [
    "# fit model\n",
    "from sklearn.preprocessing import PolynomialFeatures\n",
    "from sklearn.linear_model import LinearRegression\n",
    "from sklearn.pipeline import Pipeline\n",
    "Ploy_Res_Model = Pipeline([('poly', PolynomialFeatures(degree=3)),\n",
    "                  ('linear', LinearRegression())])\n",
    "\n",
    "import datetime\n",
    "starttime = datetime.datetime.now()\n",
    "print('Fitting model...')\n",
    "Ploy_Res_Model.fit(X_train[:10000], y_train[:10000])\n",
    "endtime = datetime.datetime.now()\n",
    "print('  Done!  \\n  Using time:',(endtime - starttime).seconds,'sec\\n')\n",
    "\n",
    "# save model\n",
    "Model = Ploy_Res_Model\n",
    "FileName = 'Ploy_Res_Model'\n",
    "from help import save_model\n",
    "save_model(Model, FileName, Best_Model=False)\n",
    "\n",
    "# print score\n",
    "from help import train_test_score\n",
    "train_test_score(Model, train_size=10000, X=X, y=y) "
   ]
  },
  {
   "cell_type": "markdown",
   "metadata": {},
   "source": [
    "***"
   ]
  },
  {
   "cell_type": "code",
   "execution_count": 10,
   "metadata": {
    "ExecuteTime": {
     "end_time": "2019-12-12T10:54:38.319128Z",
     "start_time": "2019-12-12T10:54:36.434349Z"
    }
   },
   "outputs": [
    {
     "name": "stdout",
     "output_type": "stream",
     "text": [
      "Fitting model...\n",
      "  Done!  \n",
      "  Using time: 0 sec\n",
      "\n",
      "Saving model...\n",
      "  The Model have been save in  ['Model_Parameter/Ploy_Res_Model_reduce.pkl']\n",
      "    PS: To load model, use command: 'Model = joblib.load(FileName)'.\n",
      "  Using time: 0 sec\n",
      "\n",
      "Calculating train score...\n",
      "  Train rmspe score: 0.03772\n",
      "  Using time: 0 sec\n",
      "\n",
      "Calculating test score...\n",
      "  Test rmspe score: 0.03869\n",
      "  Using time: 1 sec\n",
      "\n"
     ]
    }
   ],
   "source": [
    "# fit model\n",
    "from sklearn.preprocessing import PolynomialFeatures\n",
    "from sklearn.linear_model import LinearRegression\n",
    "from sklearn.pipeline import Pipeline\n",
    "Ploy_Res_Model_reduce = Pipeline([('poly', PolynomialFeatures(degree=2)),\n",
    "                  ('linear', LinearRegression())])\n",
    "\n",
    "import datetime\n",
    "starttime = datetime.datetime.now()\n",
    "print('Fitting model...')\n",
    "Ploy_Res_Model_reduce.fit(X_train_reduce[:10000], y_train[:10000])\n",
    "endtime = datetime.datetime.now()\n",
    "print('  Done!  \\n  Using time:',(endtime - starttime).seconds,'sec\\n')\n",
    "\n",
    "# save model\n",
    "Model = Ploy_Res_Model_reduce\n",
    "FileName = 'Ploy_Res_Model_reduce'\n",
    "from help import save_model\n",
    "save_model(Model, FileName, Best_Model=False)\n",
    "\n",
    "# print score\n",
    "from help import train_test_score\n",
    "train_test_score(Model, train_size=10000, X=X_reduce, y=y) "
   ]
  },
  {
   "cell_type": "markdown",
   "metadata": {},
   "source": [
    "### 岭回归**"
   ]
  },
  {
   "cell_type": "markdown",
   "metadata": {},
   "source": [
    "速度慢 但效果还行"
   ]
  },
  {
   "cell_type": "code",
   "execution_count": 11,
   "metadata": {
    "ExecuteTime": {
     "end_time": "2019-12-12T10:58:52.023704Z",
     "start_time": "2019-12-12T10:54:38.321824Z"
    }
   },
   "outputs": [
    {
     "name": "stdout",
     "output_type": "stream",
     "text": [
      "Fitting model...\n",
      "  Done!  \n",
      "  Using time: 252 sec\n",
      "\n",
      "Saving model...\n",
      "  The Model have been save in  ['Model_Parameter/Ridge_Sgd_Reg.pkl']\n",
      "    PS: To load model, use command: 'Model = joblib.load(FileName)'.\n",
      "  Using time: 0 sec\n",
      "\n",
      "Calculating train score...\n",
      "  Train rmspe score: 0.04026\n",
      "  Using time: 0 sec\n",
      "\n",
      "Calculating test score...\n",
      "  Test rmspe score: 0.03997\n",
      "  Using time: 0 sec\n",
      "\n"
     ]
    }
   ],
   "source": [
    "from sklearn.linear_model import SGDRegressor\n",
    "Ridge_Sgd_Reg = SGDRegressor(tol=-np.infty, penalty=\"l2\", random_state=42)\n",
    "\n",
    "import datetime\n",
    "starttime = datetime.datetime.now()\n",
    "print('Fitting model...')\n",
    "Ridge_Sgd_Reg.fit(X_train, y_train)\n",
    "endtime = datetime.datetime.now()\n",
    "print('  Done!  \\n  Using time:',(endtime - starttime).seconds,'sec\\n')\n",
    "\n",
    "# save model\n",
    "Model = Ridge_Sgd_Reg\n",
    "FileName = 'Ridge_Sgd_Reg'\n",
    "from help import save_model\n",
    "save_model(Model, FileName, Best_Model=False)\n",
    "\n",
    "# print score\n",
    "from help import train_test_score\n",
    "train_test_score(Model, X=X, y=y) "
   ]
  },
  {
   "cell_type": "markdown",
   "metadata": {},
   "source": [
    "***"
   ]
  },
  {
   "cell_type": "code",
   "execution_count": 12,
   "metadata": {
    "ExecuteTime": {
     "end_time": "2019-12-12T11:02:02.102207Z",
     "start_time": "2019-12-12T10:58:52.027788Z"
    }
   },
   "outputs": [
    {
     "name": "stdout",
     "output_type": "stream",
     "text": [
      "Fitting model...\n",
      "  Done!  \n",
      "  Using time: 189 sec\n",
      "\n",
      "Saving model...\n",
      "  The Model have been save in  ['Model_Parameter/Ridge_Sgd_Reg_reduce.pkl']\n",
      "    PS: To load model, use command: 'Model = joblib.load(FileName)'.\n",
      "  Using time: 0 sec\n",
      "\n",
      "Calculating train score...\n",
      "  Train rmspe score: 0.0403\n",
      "  Using time: 0 sec\n",
      "\n",
      "Calculating test score...\n",
      "  Test rmspe score: 0.04\n",
      "  Using time: 0 sec\n",
      "\n"
     ]
    }
   ],
   "source": [
    "from sklearn.linear_model import SGDRegressor\n",
    "Ridge_Sgd_Reg_reduce = SGDRegressor(tol=-np.infty, penalty=\"l2\", random_state=42)\n",
    "\n",
    "import datetime\n",
    "starttime = datetime.datetime.now()\n",
    "print('Fitting model...')\n",
    "Ridge_Sgd_Reg_reduce.fit(X_train_reduce, y_train)\n",
    "endtime = datetime.datetime.now()\n",
    "print('  Done!  \\n  Using time:',(endtime - starttime).seconds,'sec\\n')\n",
    "\n",
    "# save model\n",
    "Model = Ridge_Sgd_Reg_reduce\n",
    "FileName = 'Ridge_Sgd_Reg_reduce'\n",
    "from help import save_model\n",
    "save_model(Model, FileName, Best_Model=False)\n",
    "\n",
    "# print score\n",
    "from help import train_test_score\n",
    "train_test_score(Model, X=X_reduce, y=y) "
   ]
  },
  {
   "cell_type": "markdown",
   "metadata": {},
   "source": [
    "## SVR"
   ]
  },
  {
   "cell_type": "markdown",
   "metadata": {},
   "source": [
    "### LinearSVR*"
   ]
  },
  {
   "cell_type": "code",
   "execution_count": 13,
   "metadata": {
    "ExecuteTime": {
     "end_time": "2019-12-12T11:04:03.323473Z",
     "start_time": "2019-12-12T11:02:02.105646Z"
    },
    "scrolled": false
   },
   "outputs": [
    {
     "name": "stdout",
     "output_type": "stream",
     "text": [
      "Fitting model...\n"
     ]
    },
    {
     "name": "stderr",
     "output_type": "stream",
     "text": [
      "//anaconda3/lib/python3.7/site-packages/sklearn/svm/base.py:929: ConvergenceWarning: Liblinear failed to converge, increase the number of iterations.\n",
      "  \"the number of iterations.\", ConvergenceWarning)\n"
     ]
    },
    {
     "name": "stdout",
     "output_type": "stream",
     "text": [
      "  Done!  \n",
      "  Using time: 120 sec\n",
      "\n",
      "Saving model...\n",
      "  The Model have been save in  ['Model_Parameter/Linear_SVR_grid_search.pkl']\n",
      "    PS: To load model, use command: 'Model = joblib.load(FileName)'.\n",
      "  Using time: 0 sec\n",
      "\n",
      "  Model_Parameter/Linear_SVR_grid_search.pkl.best_estimator_:\n",
      "    LinearSVR(C=20, dual=True, epsilon=0, fit_intercept=True, intercept_scaling=1.0,\n",
      "          loss='epsilon_insensitive', max_iter=10000, random_state=None,\n",
      "          tol=0.0001, verbose=0) \n",
      "\n",
      "Calculating train score...\n",
      "  Train rmspe score: 0.04111\n",
      "  Using time: 0 sec\n",
      "\n",
      "Calculating test score...\n",
      "  Test rmspe score: 0.0408\n",
      "  Using time: 0 sec\n",
      "\n"
     ]
    }
   ],
   "source": [
    "from sklearn.svm import LinearSVR\n",
    "from sklearn.model_selection import GridSearchCV\n",
    "parameters = {'C': [1,10,20,30,40,50],\n",
    "              'epsilon': [0,1,2,3,4],}\n",
    "\n",
    "Linear_SVR_grid_search = GridSearchCV(LinearSVR(max_iter=10000), parameters, cv=5, \n",
    "                                      n_jobs=-1, return_train_score=True,\n",
    "                                     scoring=respe_scorer)\n",
    "\n",
    "import datetime\n",
    "starttime = datetime.datetime.now()\n",
    "print('Fitting model...')\n",
    "Linear_SVR_grid_search.fit(X_train[:10000], y_train[:10000])\n",
    "endtime = datetime.datetime.now()\n",
    "print('  Done!  \\n  Using time:',(endtime - starttime).seconds,'sec\\n')\n",
    "\n",
    "# save model\n",
    "Model = Linear_SVR_grid_search\n",
    "FileName = 'Linear_SVR_grid_search'\n",
    "from help import save_model\n",
    "save_model(Model, FileName)\n",
    "\n",
    "# print score\n",
    "from help import train_test_score\n",
    "train_test_score(Model, X=X, y=y) "
   ]
  },
  {
   "cell_type": "code",
   "execution_count": 14,
   "metadata": {
    "ExecuteTime": {
     "end_time": "2019-12-12T11:04:04.202715Z",
     "start_time": "2019-12-12T11:04:03.327033Z"
    }
   },
   "outputs": [
    {
     "data": {
      "image/png": "[encoded data removed]",
      "text/plain": [
       "<Figure size 864x288 with 4 Axes>"
      ]
     },
     "metadata": {
      "image/png": {
       "height": 277,
       "width": 708
      },
      "needs_background": "light"
     },
     "output_type": "display_data"
    }
   ],
   "source": [
    "from help import visual_result\n",
    "visual_result(Model, ['param_'+i for i in list(parameters.keys())], same_axis=False)"
   ]
  },
  {
   "cell_type": "markdown",
   "metadata": {},
   "source": [
    "***"
   ]
  },
  {
   "cell_type": "code",
   "execution_count": 15,
   "metadata": {
    "ExecuteTime": {
     "end_time": "2019-12-12T11:07:43.872998Z",
     "start_time": "2019-12-12T11:04:04.206890Z"
    },
    "scrolled": true
   },
   "outputs": [
    {
     "name": "stdout",
     "output_type": "stream",
     "text": [
      "Fitting model...\n"
     ]
    },
    {
     "name": "stderr",
     "output_type": "stream",
     "text": [
      "//anaconda3/lib/python3.7/site-packages/sklearn/svm/base.py:929: ConvergenceWarning: Liblinear failed to converge, increase the number of iterations.\n",
      "  \"the number of iterations.\", ConvergenceWarning)\n",
      "//anaconda3/lib/python3.7/site-packages/sklearn/svm/base.py:929: ConvergenceWarning: Liblinear failed to converge, increase the number of iterations.\n",
      "  \"the number of iterations.\", ConvergenceWarning)\n",
      "//anaconda3/lib/python3.7/site-packages/sklearn/svm/base.py:929: ConvergenceWarning: Liblinear failed to converge, increase the number of iterations.\n",
      "  \"the number of iterations.\", ConvergenceWarning)\n",
      "//anaconda3/lib/python3.7/site-packages/sklearn/svm/base.py:929: ConvergenceWarning: Liblinear failed to converge, increase the number of iterations.\n",
      "  \"the number of iterations.\", ConvergenceWarning)\n",
      "//anaconda3/lib/python3.7/site-packages/sklearn/svm/base.py:929: ConvergenceWarning: Liblinear failed to converge, increase the number of iterations.\n",
      "  \"the number of iterations.\", ConvergenceWarning)\n",
      "//anaconda3/lib/python3.7/site-packages/sklearn/svm/base.py:929: ConvergenceWarning: Liblinear failed to converge, increase the number of iterations.\n",
      "  \"the number of iterations.\", ConvergenceWarning)\n",
      "//anaconda3/lib/python3.7/site-packages/sklearn/svm/base.py:929: ConvergenceWarning: Liblinear failed to converge, increase the number of iterations.\n",
      "  \"the number of iterations.\", ConvergenceWarning)\n",
      "//anaconda3/lib/python3.7/site-packages/sklearn/svm/base.py:929: ConvergenceWarning: Liblinear failed to converge, increase the number of iterations.\n",
      "  \"the number of iterations.\", ConvergenceWarning)\n",
      "//anaconda3/lib/python3.7/site-packages/sklearn/svm/base.py:929: ConvergenceWarning: Liblinear failed to converge, increase the number of iterations.\n",
      "  \"the number of iterations.\", ConvergenceWarning)\n",
      "//anaconda3/lib/python3.7/site-packages/sklearn/svm/base.py:929: ConvergenceWarning: Liblinear failed to converge, increase the number of iterations.\n",
      "  \"the number of iterations.\", ConvergenceWarning)\n",
      "//anaconda3/lib/python3.7/site-packages/sklearn/svm/base.py:929: ConvergenceWarning: Liblinear failed to converge, increase the number of iterations.\n",
      "  \"the number of iterations.\", ConvergenceWarning)\n",
      "//anaconda3/lib/python3.7/site-packages/sklearn/svm/base.py:929: ConvergenceWarning: Liblinear failed to converge, increase the number of iterations.\n",
      "  \"the number of iterations.\", ConvergenceWarning)\n",
      "//anaconda3/lib/python3.7/site-packages/sklearn/svm/base.py:929: ConvergenceWarning: Liblinear failed to converge, increase the number of iterations.\n",
      "  \"the number of iterations.\", ConvergenceWarning)\n",
      "//anaconda3/lib/python3.7/site-packages/sklearn/svm/base.py:929: ConvergenceWarning: Liblinear failed to converge, increase the number of iterations.\n",
      "  \"the number of iterations.\", ConvergenceWarning)\n",
      "//anaconda3/lib/python3.7/site-packages/sklearn/svm/base.py:929: ConvergenceWarning: Liblinear failed to converge, increase the number of iterations.\n",
      "  \"the number of iterations.\", ConvergenceWarning)\n",
      "//anaconda3/lib/python3.7/site-packages/sklearn/svm/base.py:929: ConvergenceWarning: Liblinear failed to converge, increase the number of iterations.\n",
      "  \"the number of iterations.\", ConvergenceWarning)\n",
      "//anaconda3/lib/python3.7/site-packages/sklearn/svm/base.py:929: ConvergenceWarning: Liblinear failed to converge, increase the number of iterations.\n",
      "  \"the number of iterations.\", ConvergenceWarning)\n",
      "//anaconda3/lib/python3.7/site-packages/sklearn/svm/base.py:929: ConvergenceWarning: Liblinear failed to converge, increase the number of iterations.\n",
      "  \"the number of iterations.\", ConvergenceWarning)\n",
      "//anaconda3/lib/python3.7/site-packages/sklearn/svm/base.py:929: ConvergenceWarning: Liblinear failed to converge, increase the number of iterations.\n",
      "  \"the number of iterations.\", ConvergenceWarning)\n",
      "//anaconda3/lib/python3.7/site-packages/sklearn/svm/base.py:929: ConvergenceWarning: Liblinear failed to converge, increase the number of iterations.\n",
      "  \"the number of iterations.\", ConvergenceWarning)\n",
      "//anaconda3/lib/python3.7/site-packages/sklearn/svm/base.py:929: ConvergenceWarning: Liblinear failed to converge, increase the number of iterations.\n",
      "  \"the number of iterations.\", ConvergenceWarning)\n",
      "//anaconda3/lib/python3.7/site-packages/sklearn/svm/base.py:929: ConvergenceWarning: Liblinear failed to converge, increase the number of iterations.\n",
      "  \"the number of iterations.\", ConvergenceWarning)\n",
      "//anaconda3/lib/python3.7/site-packages/sklearn/svm/base.py:929: ConvergenceWarning: Liblinear failed to converge, increase the number of iterations.\n",
      "  \"the number of iterations.\", ConvergenceWarning)\n",
      "//anaconda3/lib/python3.7/site-packages/sklearn/svm/base.py:929: ConvergenceWarning: Liblinear failed to converge, increase the number of iterations.\n",
      "  \"the number of iterations.\", ConvergenceWarning)\n",
      "//anaconda3/lib/python3.7/site-packages/sklearn/svm/base.py:929: ConvergenceWarning: Liblinear failed to converge, increase the number of iterations.\n",
      "  \"the number of iterations.\", ConvergenceWarning)\n",
      "//anaconda3/lib/python3.7/site-packages/sklearn/svm/base.py:929: ConvergenceWarning: Liblinear failed to converge, increase the number of iterations.\n",
      "  \"the number of iterations.\", ConvergenceWarning)\n",
      "//anaconda3/lib/python3.7/site-packages/sklearn/svm/base.py:929: ConvergenceWarning: Liblinear failed to converge, increase the number of iterations.\n",
      "  \"the number of iterations.\", ConvergenceWarning)\n",
      "//anaconda3/lib/python3.7/site-packages/sklearn/svm/base.py:929: ConvergenceWarning: Liblinear failed to converge, increase the number of iterations.\n",
      "  \"the number of iterations.\", ConvergenceWarning)\n",
      "//anaconda3/lib/python3.7/site-packages/sklearn/svm/base.py:929: ConvergenceWarning: Liblinear failed to converge, increase the number of iterations.\n",
      "  \"the number of iterations.\", ConvergenceWarning)\n",
      "//anaconda3/lib/python3.7/site-packages/sklearn/svm/base.py:929: ConvergenceWarning: Liblinear failed to converge, increase the number of iterations.\n",
      "  \"the number of iterations.\", ConvergenceWarning)\n",
      "//anaconda3/lib/python3.7/site-packages/sklearn/svm/base.py:929: ConvergenceWarning: Liblinear failed to converge, increase the number of iterations.\n",
      "  \"the number of iterations.\", ConvergenceWarning)\n"
     ]
    },
    {
     "name": "stdout",
     "output_type": "stream",
     "text": [
      "  Done!  \n",
      "  Using time: 219 sec\n",
      "\n",
      "Saving model...\n",
      "  The Model have been save in  ['Model_Parameter/Linear_SVR_grid_search_reduce.pkl']\n",
      "    PS: To load model, use command: 'Model = joblib.load(FileName)'.\n",
      "  Using time: 0 sec\n",
      "\n",
      "  Model_Parameter/Linear_SVR_grid_search_reduce.pkl.best_estimator_:\n",
      "    LinearSVR(C=10, dual=True, epsilon=0, fit_intercept=True, intercept_scaling=1.0,\n",
      "          loss='epsilon_insensitive', max_iter=10000, random_state=None,\n",
      "          tol=0.0001, verbose=0) \n",
      "\n",
      "Calculating train score...\n",
      "  Train rmspe score: 0.04133\n",
      "  Using time: 0 sec\n",
      "\n",
      "Calculating test score...\n",
      "  Test rmspe score: 0.04099\n",
      "  Using time: 0 sec\n",
      "\n"
     ]
    }
   ],
   "source": [
    "from sklearn.svm import LinearSVR\n",
    "from sklearn.model_selection import GridSearchCV\n",
    "# parameters = {'C': [1,20,40,60],\n",
    "#               'epsilon': [0.75,1,1.25],}\n",
    "parameters = {'C': [1,10,20,30,40,50],\n",
    "              'epsilon': [0,1,2,3,4],}\n",
    "\n",
    "Linear_SVR_grid_search_reduce = GridSearchCV(LinearSVR(max_iter=10000), parameters, cv=5, \n",
    "                                             return_train_score=True, scoring=respe_scorer)\n",
    "\n",
    "import datetime\n",
    "starttime = datetime.datetime.now()\n",
    "print('Fitting model...')\n",
    "Linear_SVR_grid_search_reduce.fit(X_train_reduce[:10000], y_train[:10000])\n",
    "endtime = datetime.datetime.now()\n",
    "print('  Done!  \\n  Using time:',(endtime - starttime).seconds,'sec\\n')\n",
    "\n",
    "# save model\n",
    "Model = Linear_SVR_grid_search_reduce\n",
    "FileName = 'Linear_SVR_grid_search_reduce'\n",
    "from help import save_model\n",
    "save_model(Model, FileName)\n",
    "\n",
    "# print score\n",
    "from help import train_test_score\n",
    "train_test_score(Model, X=X_reduce, y=y) "
   ]
  },
  {
   "cell_type": "code",
   "execution_count": 16,
   "metadata": {
    "ExecuteTime": {
     "end_time": "2019-12-12T11:07:44.857528Z",
     "start_time": "2019-12-12T11:07:43.876905Z"
    }
   },
   "outputs": [
    {
     "data": {
      "image/png": "[encoded data removed]",
      "text/plain": [
       "<Figure size 864x288 with 4 Axes>"
      ]
     },
     "metadata": {
      "image/png": {
       "height": 277,
       "width": 708
      },
      "needs_background": "light"
     },
     "output_type": "display_data"
    }
   ],
   "source": [
    "from help import visual_result\n",
    "visual_result(Model, ['param_'+i for i in list(parameters.keys())], same_axis=False)"
   ]
  },
  {
   "cell_type": "markdown",
   "metadata": {},
   "source": [
    "### KernelSVR"
   ]
  },
  {
   "cell_type": "markdown",
   "metadata": {},
   "source": [
    "结论：都不怎么行，且速度慢"
   ]
  },
  {
   "cell_type": "code",
   "execution_count": null,
   "metadata": {
    "ExecuteTime": {
     "start_time": "2019-12-12T10:47:24.277Z"
    },
    "scrolled": true
   },
   "outputs": [
    {
     "name": "stdout",
     "output_type": "stream",
     "text": [
      "Fitting model...\n"
     ]
    }
   ],
   "source": [
    "from sklearn.svm import SVR\n",
    "from sklearn.model_selection import GridSearchCV\n",
    "param_grid = {'kernel':['rbf', 'poly'],\n",
    "              'epsilon': [0,1,10,100],\n",
    "              'degree': [1,2,3],}\n",
    "\n",
    "Kernel_SVR_grid_search = GridSearchCV(SVR(C=1,gamma='auto',max_iter=-1),\n",
    "                               param_grid, cv=5, n_jobs=-1, \n",
    "                               return_train_score=True,\n",
    "                               scoring=respe_scorer)\n",
    "\n",
    "import datetime\n",
    "starttime = datetime.datetime.now()\n",
    "print('Fitting model...')\n",
    "Kernel_SVR_grid_search.fit(X_train[:6000], y_train[:6000])\n",
    "endtime = datetime.datetime.now()\n",
    "print('  Done!  \\n  Using time:',(endtime - starttime).seconds,'sec\\n')\n",
    "\n",
    "# save model\n",
    "Model = Kernel_SVR_grid_search\n",
    "FileName = 'Kernel_SVR_grid_search'\n",
    "from help import save_model\n",
    "save_model(Model, FileName)\n",
    "\n",
    "# print score\n",
    "from help import train_test_score\n",
    "train_test_score(Model, train_size=6000, X=X, y=y) "
   ]
  },
  {
   "cell_type": "code",
   "execution_count": null,
   "metadata": {
    "ExecuteTime": {
     "start_time": "2019-12-12T10:47:24.281Z"
    },
    "scrolled": false
   },
   "outputs": [],
   "source": [
    "from help import visual_result\n",
    "visual_result(Model, ['param_epsilon','param_degree'])\n",
    "visual_result(Model, ['param_epsilon','param_kernel'])"
   ]
  },
  {
   "cell_type": "markdown",
   "metadata": {},
   "source": [
    "***"
   ]
  },
  {
   "cell_type": "code",
   "execution_count": null,
   "metadata": {
    "ExecuteTime": {
     "start_time": "2019-12-12T10:47:24.286Z"
    }
   },
   "outputs": [],
   "source": [
    "from sklearn.svm import SVR\n",
    "from sklearn.model_selection import GridSearchCV\n",
    "param_grid = {'kernel':['rbf', 'poly'],\n",
    "              'epsilon': [0,1,10,100],\n",
    "              'degree': [1,2,3],}\n",
    "\n",
    "Kernel_SVR_grid_search_reduce = GridSearchCV(SVR(C=1,gamma='auto',max_iter=-1),\n",
    "                               param_grid, cv=5, n_jobs=-1, \n",
    "                               return_train_score=True,\n",
    "                               scoring=respe_scorer)\n",
    "\n",
    "import datetime\n",
    "starttime = datetime.datetime.now()\n",
    "print('Fitting model...')\n",
    "Kernel_SVR_grid_search_reduce.fit(X_train_reduce[:6000], y_train[:6000])\n",
    "endtime = datetime.datetime.now()\n",
    "print('  Done!  \\n  Using time:',(endtime - starttime).seconds,'sec\\n')\n",
    "\n",
    "# save model\n",
    "Model = Kernel_SVR_grid_search_reduce\n",
    "FileName = 'Kernel_SVR_grid_search_reduce'\n",
    "from help import save_model\n",
    "save_model(Model, FileName)\n",
    "\n",
    "# print score\n",
    "from help import train_test_score\n",
    "train_test_score(Model, train_size=6000, X=X_reduce, y=y) "
   ]
  },
  {
   "cell_type": "code",
   "execution_count": null,
   "metadata": {
    "ExecuteTime": {
     "start_time": "2019-12-12T10:47:24.290Z"
    }
   },
   "outputs": [],
   "source": [
    "from help import visual_result\n",
    "visual_result(Model, ['param_epsilon','param_degree'])\n",
    "visual_result(Model, ['param_epsilon','param_kernel'])"
   ]
  },
  {
   "cell_type": "markdown",
   "metadata": {},
   "source": [
    "## [决策树](http://lijiancheng0614.github.io/scikit-learn/modules/generated/sklearn.tree.DecisionTreeRegressor.html#sklearn.tree.DecisionTreeRegressor)*"
   ]
  },
  {
   "cell_type": "code",
   "execution_count": null,
   "metadata": {
    "ExecuteTime": {
     "start_time": "2019-12-12T10:47:24.294Z"
    }
   },
   "outputs": [],
   "source": [
    "from sklearn.tree import DecisionTreeRegressor\n",
    "from sklearn.model_selection import GridSearchCV\n",
    "\n",
    "Tree = DecisionTreeRegressor(min_samples_leaf=4)\n",
    "parameters = {'max_depth':[29,30,31,32],\n",
    "              'min_samples_split':[19,20,21,22]}\n",
    "\n",
    "Tree_grid_search = GridSearchCV(Tree, parameters, scoring=respe_scorer, \n",
    "                                cv=5, n_jobs=-1, return_train_score=True)\n",
    "\n",
    "import datetime\n",
    "starttime = datetime.datetime.now()\n",
    "print('Fitting model...')\n",
    "Tree_grid_search.fit(X_train[:80000], y_train[:80000])\n",
    "endtime = datetime.datetime.now()\n",
    "print('  Done!  \\n  Using time:',(endtime - starttime).seconds,'sec\\n')\n",
    "\n",
    "from help import save_model\n",
    "Model = Tree_grid_search\n",
    "FileName = 'Tree_grid_search'\n",
    "save_model(Model,FileName)"
   ]
  },
  {
   "cell_type": "code",
   "execution_count": null,
   "metadata": {
    "ExecuteTime": {
     "start_time": "2019-12-12T10:47:24.298Z"
    },
    "scrolled": false
   },
   "outputs": [],
   "source": [
    "from help import train_test_score\n",
    "train_test_score(Model,X=X,y=y)\n",
    "\n",
    "from help import visual_result\n",
    "visual_result(Model, ['param_'+i for i in list(parameters.keys())],same_axis=False)"
   ]
  },
  {
   "cell_type": "markdown",
   "metadata": {},
   "source": [
    "***"
   ]
  },
  {
   "cell_type": "markdown",
   "metadata": {},
   "source": [
    "## KNN\n",
    "\n",
    "sklearn.neighbors.KNeighborsRegressor(n_neighbors=5, weights='uniform', algorithm='auto', leaf_size=30, p=2, metric='minkowski', metric_params=None, n_jobs=None, **kwargs)"
   ]
  },
  {
   "cell_type": "markdown",
   "metadata": {},
   "source": [
    "***"
   ]
  },
  {
   "cell_type": "code",
   "execution_count": null,
   "metadata": {
    "ExecuteTime": {
     "start_time": "2019-12-12T10:47:24.303Z"
    }
   },
   "outputs": [],
   "source": [
    "from sklearn.neighbors import KNeighborsRegressor\n",
    "from sklearn.model_selection import GridSearchCV\n",
    "\n",
    "parameters = {'n_neighbors':[1,3,5,7,9],\n",
    "             'p':[1,2]}\n",
    "KNN_grid_search_reduce = GridSearchCV(KNeighborsRegressor(n_jobs=-1), \n",
    "                                      parameters, scoring=respe_scorer, \n",
    "                                      cv=5, n_jobs=-1, return_train_score=True)\n",
    "\n",
    "import datetime\n",
    "starttime = datetime.datetime.now()\n",
    "print('Fitting model...')\n",
    "KNN_grid_search_reduce.fit(X_train_reduce[:10000], y_train[:10000])\n",
    "endtime = datetime.datetime.now()\n",
    "print('  Done!  \\n  Using time:',(endtime - starttime).seconds,'sec\\n')\n",
    "\n",
    "from help import save_model\n",
    "Model = KNN_grid_search_reduce\n",
    "FileName = 'KNN_grid_search_reduce'\n",
    "save_model(Model,FileName)"
   ]
  },
  {
   "cell_type": "code",
   "execution_count": null,
   "metadata": {
    "ExecuteTime": {
     "start_time": "2019-12-12T10:47:24.308Z"
    }
   },
   "outputs": [],
   "source": [
    "from help import train_test_score\n",
    "train_test_score(Model,X=X_reduce,y=y)\n",
    "\n",
    "from help import visual_result\n",
    "visual_result(Model, ['param_'+i for i in list(parameters.keys())],same_axis=False)"
   ]
  }
 ],
 "metadata": {
  "kernelspec": {
   "display_name": "Python 3",
   "language": "python",
   "name": "python3"
  },
  "language_info": {
   "codemirror_mode": {
    "name": "ipython",
    "version": 3
   },
   "file_extension": ".py",
   "mimetype": "text/x-python",
   "name": "python",
   "nbconvert_exporter": "python",
   "pygments_lexer": "ipython3",
   "version": "3.7.3"
  },
  "notify_time": "5",
  "toc": {
   "base_numbering": 1,
   "nav_menu": {},
   "number_sections": true,
   "sideBar": true,
   "skip_h1_title": false,
   "title_cell": "Table of Contents",
   "title_sidebar": "Contents",
   "toc_cell": false,
   "toc_position": {
    "height": "calc(100% - 180px)",
    "left": "10px",
    "top": "150px",
    "width": "222.60870361328125px"
   },
   "toc_section_display": true,
   "toc_window_display": true
  },
  "varInspector": {
   "cols": {
    "lenName": 16,
    "lenType": 16,
    "lenVar": 40
   },
   "kernels_config": {
    "python": {
     "delete_cmd_postfix": "",
     "delete_cmd_prefix": "del ",
     "library": "var_list.py",
     "varRefreshCmd": "print(var_dic_list())"
    },
    "r": {
     "delete_cmd_postfix": ") ",
     "delete_cmd_prefix": "rm(",
     "library": "var_list.r",
     "varRefreshCmd": "cat(var_dic_list()) "
    }
   },
   "oldHeight": 255.99185705184937,
   "position": {
    "height": "277.7309875488281px",
    "left": "2.8043477535247803px",
    "right": "20px",
    "top": "338.9918518066406px",
    "width": "217.24185180664062px"
   },
   "types_to_exclude": [
    "module",
    "function",
    "builtin_function_or_method",
    "instance",
    "_Feature"
   ],
   "varInspector_section_display": "block",
   "window_display": false
  }
 },
 "nbformat": 4,
 "nbformat_minor": 4
}
