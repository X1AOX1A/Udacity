{
 "cells": [
  {
   "cell_type": "markdown",
   "metadata": {},
   "source": [
    "| Model | FileName | Fitting Time | Trian Size | Train Score(Size) |Train Time| Test Score(Size) | Test Time|\n",
    "| ------ | ------ | ------ | ------ | ------ | ------ | ------ | ------ | \n",
    "| LinearRegression | Linear_Model.pkl | 1 | Full | 0.03993(Full) | 0 | 0.03965(Full) | 0 |\n",
    "| LinearRegression | Linear_Model_reduce.pkl | 0 | Full | 0.04027(Full) | 0 | 0.03997(Full) | 0 |\n",
    "| PolyLinearRegression | Ploy_Res_Model.pkl | 261 | 10000 | 0.03219(10000) | 1 | 416808826.33454(Full) | 139 |\n",
    "| PolyLinearRegression | Ploy_Res_Model_reduce.pkl | 12 | Full | 0.03891(Full) | 3 | 0.03865(Full) | 1 |\n",
    "| SGDRegressor | Ridge_Sgd_Reg.pkl | 252 | Full | 0.04026(Full) | 0 | 0.03997(Full) | 0 |\n",
    "| SGDRegressor | Ridge_Sgd_Reg_reduce.pkl | 189 | Full | 0.0403(Full) | 0 | 0.04(Full) | 0 |\n",
    "| LinearSVR | Linear_SVR_grid_search.pkl | 120 | 10000 | 0.04111(Full) | 0 | 0.0408(Full) | 0 |\n",
    "| LinearSVR | Linear_SVR_grid_search_reduce.pkl | 219 | 10000 | 0.04133(Full) | 0 | 0.04099(Full) | 0 |\n",
    "| KernelSVR | Kernel_SVR_grid_search.pkl | 227 | 6000 | 10.02613(Full) | 55 | 10.02405(Full) | 20 |\n",
    "| KernelSVR | Kernel_SVR_grid_search_reduce.pkl | 75 | 6000 | 10.29077(Full) | 15 | 10.28848(Full) | 5 |\n",
    "| DecisionTreeRegressor | Tree_grid_search.pkl | 448 | Full | 0.08866(Full) | 0 | 0.12099(Full) | 0 |\n",
    "| DecisionTreeRegressor | Tree_grid_search_reduce.pkl | 213 | Full | 0.08418(Full) | 0 | 0.1069(Full) | 0 |\n",
    "| KNeighborsRegressor | KNN_grid_search_reduce.pkl | 300 | 40000 | 0.65039(Full) | 92 | 0.64065(Full) | 42 |\n",
    "|  |  |  |  |  |  |  |  |"
   ]
  },
  {
   "cell_type": "code",
   "execution_count": null,
   "metadata": {},
   "outputs": [],
   "source": []
  }
 ],
 "metadata": {
  "kernelspec": {
   "display_name": "Python 3",
   "language": "python",
   "name": "python3"
  },
  "language_info": {
   "codemirror_mode": {
    "name": "ipython",
    "version": 3
   },
   "file_extension": ".py",
   "mimetype": "text/x-python",
   "name": "python",
   "nbconvert_exporter": "python",
   "pygments_lexer": "ipython3",
   "version": "3.7.3"
  },
  "toc": {
   "base_numbering": 1,
   "nav_menu": {},
   "number_sections": true,
   "sideBar": true,
   "skip_h1_title": false,
   "title_cell": "Table of Contents",
   "title_sidebar": "Contents",
   "toc_cell": false,
   "toc_position": {},
   "toc_section_display": true,
   "toc_window_display": false
  },
  "varInspector": {
   "cols": {
    "lenName": 16,
    "lenType": 16,
    "lenVar": 40
   },
   "kernels_config": {
    "python": {
     "delete_cmd_postfix": "",
     "delete_cmd_prefix": "del ",
     "library": "var_list.py",
     "varRefreshCmd": "print(var_dic_list())"
    },
    "r": {
     "delete_cmd_postfix": ") ",
     "delete_cmd_prefix": "rm(",
     "library": "var_list.r",
     "varRefreshCmd": "cat(var_dic_list()) "
    }
   },
   "types_to_exclude": [
    "module",
    "function",
    "builtin_function_or_method",
    "instance",
    "_Feature"
   ],
   "window_display": false
  }
 },
 "nbformat": 4,
 "nbformat_minor": 2
}
