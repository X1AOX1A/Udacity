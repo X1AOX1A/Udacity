{
 "cells": [
  {
   "cell_type": "markdown",
   "metadata": {},
   "source": [
    "# 数据导入"
   ]
  },
  {
   "cell_type": "code",
   "execution_count": 1,
   "metadata": {
    "ExecuteTime": {
     "end_time": "2019-12-13T07:45:33.973621Z",
     "start_time": "2019-12-13T07:45:27.749842Z"
    }
   },
   "outputs": [
    {
     "name": "stderr",
     "output_type": "stream",
     "text": [
      "//anaconda3/lib/python3.7/site-packages/numpy/lib/arraysetops.py:568: FutureWarning: elementwise comparison failed; returning scalar instead, but in the future will perform elementwise comparison\n",
      "  mask |= (ar1 == a)\n"
     ]
    }
   ],
   "source": [
    "import numpy as np\n",
    "import pandas as pd\n",
    "import matplotlib.pyplot as plt\n",
    "import seaborn as sns\n",
    "import joblib\n",
    "%config InlineBackend.figure_format='retina'\n",
    "\n",
    "from help import rmspe\n",
    "from sklearn.metrics import make_scorer\n",
    "respe_scorer = make_scorer(rmspe, greater_is_better=False)\n",
    "\n",
    "from sklearn.model_selection import train_test_split\n",
    "X_reduce = pd.read_csv('data/X_reduce.csv', index_col = 0)\n",
    "X_predict_reduce = pd.read_csv('data/X_predict_reduce.csv', index_col = 0)\n",
    "y = pd.read_csv('data/y.csv',header=None ,index_col = 0)\n",
    "X_train_reduce, X_test_reduce, y_train, y_test = train_test_split(X_reduce, y, random_state=520)"
   ]
  },
  {
   "cell_type": "markdown",
   "metadata": {},
   "source": [
    "| No | Model | FileName | Fitting Time | Fitting Size | Train Score(Size) |Train Time| Test Score(Size) | Test Time|\n",
    "| ------ | ------ | ------ | ------ | ------ | ------ | ------ | ------ | ------ | \n",
    "1.1| LinearRegression | Linear_Model.pkl | 1 | Full | 0.03993(Full) | 0 | 0.03965(Full) | 0 |\n",
    "**1.2**| **LinearRegression** | **Linear_Model_reduce.pkl** | **0** | **Full** | **0.04027(Full)** | **0** | **0.03997(Full)** | **0** |\n",
    "2.1| PolyLinearRegression | Ploy_Res_Model.pkl | 261 | 10000 | 0.03219(10000) | 1 | 416808826.33454(Full) | 139 |\n",
    "**2.2**| **PolyLinearRegression** | **Ploy_Res_Model_reduce.pkl** | **12** | **Full** | **0.03891(Full)** | **3.1** | **0.03865(Full**) | **1** |\n",
    "3.1| RidgeSGDRegressor | Ridge_Sgd_Reg.pkl | 252 | Full | 0.04026(Full) | 0 | 0.03997(Full) | 0 |\n",
    "**3.2**| **RidgeSGDRegressor** | **Ridge_Sgd_Reg_reduce.pkl** | **189** | **Full** | **0.0403(Full)** | **0** | **0.04(Full)** | **0** |\n",
    "|||||\n",
    "4.1| LinearSVR | Linear_SVR_grid_search.pkl | 120 | 10000 | 0.04111(Full) | 0 | 0.0408(Full) | 0 |\n",
    "**4.2**| **LinearSVR** | **Linear_SVR_grid_search_reduce.pkl** | **219** | **10000** | **0.04133(Full)** | **0** | **0.04099(Full)** | **0** |\n",
    "5.1| KernelSVR | Kernel_SVR_grid_search.pkl | 227 | 6000 | 10.02613(Full) | 55 | 10.02405(Full) | 20 |\n",
    "5.2| KernelSVR | Kernel_SVR_grid_search_reduce.pkl | 75 | 6000 | 10.29077(Full) | 15 | 10.28848(Full) | 5 |\n",
    "6.1| DecisionTreeRegressor | Tree_grid_search.pkl | 448 | Full | 0.08866(Full) | 0 | 0.12099(Full) | 0 |\n",
    "6.2| DecisionTreeRegressor | Tree_grid_search_reduce.pkl | 213 | Full | 0.08418(Full) | 0 | 0.1069(Full) | 0 |\n",
    "7.2| RandomForestRegressor | Random_Forest_reduce.pkl | 215 | Full | 0.08514(Full) | 16 | 0.14097(Full) | 4 |\n",
    "8.2| ExtraTreesRegressor | Extra_Forest_reduce.pkl | 143 | Full | 0.07756(Full) | 23 | 0.11003(Full) | 7 |\n",
    "9.2| KNeighborsRegressor | KNN_grid_search_reduce.pkl | 300 | 40000 | 0.65039(Full) | 92 | 0.64065(Full) | 42 |\n",
    "|  |  |  |  |  |  |  |  |"
   ]
  },
  {
   "cell_type": "markdown",
   "metadata": {},
   "source": [
    "从前面的模型来看，可以发现以下几点规律：\n",
    "\n",
    "1. 选模型（X.2）与全模型（X.1）相比，测试准确率上几乎相同，但模型训练时间却大幅下降；\n",
    "\n",
    "2. 线性回归（1.2）模型在训练速度上非常快，且预测时间短，因此适合做为基学习器\n",
    "\n",
    "3. 多项式回归（2.2）模型在训练速度以及预测速度上一般，但预测效果较好，较适合做预测器，勉强可以作为基学习器\n",
    "\n",
    "4. 岭回归（3.2）和线性支持向量机（4.2）模型在训练数据较大时训练时间较长，但预测效果好且时间短，适合作为预测器，不适合作为基学习器"
   ]
  },
  {
   "cell_type": "markdown",
   "metadata": {},
   "source": [
    "# Voting\n",
    "\n",
    "sklearn.ensemble.VotingRegressor(estimators, weights=None, n_jobs=None)[source]"
   ]
  },
  {
   "cell_type": "code",
   "execution_count": 2,
   "metadata": {
    "ExecuteTime": {
     "end_time": "2019-12-13T07:45:33.980911Z",
     "start_time": "2019-12-13T07:45:33.975774Z"
    }
   },
   "outputs": [],
   "source": [
    "# from sklearn.ensemble import VotingRegressor\n",
    "# voting_clf = VotingRegressor(\n",
    "#     estimators=[('lr', log_clf), ('rf', rnd_clf), ('svc', svm_clf)],\n",
    "#     voting='soft')\n",
    "# voting_clf.fit(X_train, y_train)"
   ]
  },
  {
   "cell_type": "markdown",
   "metadata": {},
   "source": [
    "***"
   ]
  },
  {
   "cell_type": "code",
   "execution_count": 3,
   "metadata": {
    "ExecuteTime": {
     "end_time": "2019-12-13T07:45:34.050799Z",
     "start_time": "2019-12-13T07:45:33.985059Z"
    }
   },
   "outputs": [],
   "source": [
    "LinearRegression = joblib.load('Model_Parameter/Linear_Model_reduce.pkl')\n",
    "PolyLinearRegression = joblib.load('Model_Parameter/Ploy_Res_Model_reduce.pkl')\n",
    "RidgeSGDRegressor = joblib.load('Model_Parameter/Ridge_Sgd_Reg_reduce.pkl')\n",
    "LinearSVR = joblib.load('Model_Parameter/Linear_SVR_grid_search_reduce.pkl')"
   ]
  },
  {
   "cell_type": "code",
   "execution_count": 4,
   "metadata": {
    "ExecuteTime": {
     "end_time": "2019-12-13T07:45:34.714825Z",
     "start_time": "2019-12-13T07:45:34.055406Z"
    },
    "scrolled": true
   },
   "outputs": [
    {
     "name": "stdout",
     "output_type": "stream",
     "text": [
      "Calculating train score...\n",
      "  Train rmspe score: 0.04027\n",
      "  Using time: 0 sec\n",
      "\n",
      "Calculating test score...\n",
      "  Test rmspe score: 0.03997\n",
      "  Using time: 0 sec\n",
      "\n"
     ]
    }
   ],
   "source": [
    "from help import train_test_score\n",
    "Model = LinearRegression\n",
    "train_test_score(Model, X=X_reduce, y=y)"
   ]
  },
  {
   "cell_type": "code",
   "execution_count": 11,
   "metadata": {
    "ExecuteTime": {
     "end_time": "2019-12-13T07:47:14.481411Z",
     "start_time": "2019-12-13T07:47:14.435308Z"
    },
    "scrolled": true
   },
   "outputs": [
    {
     "data": {
      "text/plain": [
       "0.3891232240805989"
      ]
     },
     "execution_count": 11,
     "metadata": {},
     "output_type": "execute_result"
    }
   ],
   "source": [
    "from help import rmspe\n",
    "Model = joblib.load('Model_Parameter/Ploy_Res_Model_reduce.pkl')\n",
    "rmspe(  np.exp(Model.predict(X_reduce.iloc[-10000:-1])), np.exp(y.iloc[-10000:-1])  )"
   ]
  },
  {
   "cell_type": "code",
   "execution_count": 12,
   "metadata": {
    "ExecuteTime": {
     "end_time": "2019-12-13T07:47:18.030630Z",
     "start_time": "2019-12-13T07:47:17.992113Z"
    },
    "scrolled": true
   },
   "outputs": [
    {
     "data": {
      "text/plain": [
       "0.27723186896397845"
      ]
     },
     "execution_count": 12,
     "metadata": {},
     "output_type": "execute_result"
    }
   ],
   "source": [
    "from sklearn.metrics import r2_score\n",
    "r2_score(  np.exp(Model.predict(X_reduce.iloc[-10000:-1])), np.exp(y.iloc[-10000:-1])  )"
   ]
  },
  {
   "cell_type": "code",
   "execution_count": 18,
   "metadata": {
    "ExecuteTime": {
     "end_time": "2019-12-13T07:49:51.945685Z",
     "start_time": "2019-12-13T07:49:51.492142Z"
    }
   },
   "outputs": [
    {
     "data": {
      "text/plain": [
       "<matplotlib.collections.PathCollection at 0x1a27c27a20>"
      ]
     },
     "execution_count": 18,
     "metadata": {},
     "output_type": "execute_result"
    },
    {
     "data": {
      "image/png": "[encoded data removed]",
      "text/plain": [
       "<Figure size 432x288 with 1 Axes>"
      ]
     },
     "metadata": {
      "image/png": {
       "height": 248,
       "width": 383
      },
      "needs_background": "light"
     },
     "output_type": "display_data"
    }
   ],
   "source": [
    "plt.scatter( (Model.predict(X_reduce.iloc[-10000:-1])), (y.iloc[-10000:-1]))"
   ]
  },
  {
   "cell_type": "code",
   "execution_count": 17,
   "metadata": {
    "ExecuteTime": {
     "end_time": "2019-12-13T07:49:43.954455Z",
     "start_time": "2019-12-13T07:49:43.455813Z"
    }
   },
   "outputs": [
    {
     "data": {
      "text/plain": [
       "<matplotlib.collections.PathCollection at 0x1a22fbab00>"
      ]
     },
     "execution_count": 17,
     "metadata": {},
     "output_type": "execute_result"
    },
    {
     "data": {
      "image/png": "[encoded data removed]",
      "text/plain": [
       "<Figure size 432x288 with 1 Axes>"
      ]
     },
     "metadata": {
      "image/png": {
       "height": 248,
       "width": 403
      },
      "needs_background": "light"
     },
     "output_type": "display_data"
    }
   ],
   "source": [
    "plt.scatter(np.exp(Model.predict(X_reduce.iloc[-10000:-1])), np.exp(y.iloc[-10000:-1]) )"
   ]
  },
  {
   "cell_type": "code",
   "execution_count": 8,
   "metadata": {
    "ExecuteTime": {
     "end_time": "2019-12-13T07:45:35.595265Z",
     "start_time": "2019-12-13T07:45:34.933040Z"
    }
   },
   "outputs": [
    {
     "name": "stdout",
     "output_type": "stream",
     "text": [
      "Predicting submission...\n",
      "  Done!\n",
      "  Using time: 0 sec\n",
      "\n",
      "Saving submission...\n",
      "  Done!\n",
      "  PS: To submit file, use command:\n",
      "    cd /Users/apple/Documents/Jupyter/Udacity/Rossmann_Store_Sales\n",
      "    kaggle competitions submit -c rossmann-store-sales -f submission.csv -m \"Message\"\n"
     ]
    }
   ],
   "source": [
    "from help import submission\n",
    "submission(Model, Save_File=True)"
   ]
  },
  {
   "cell_type": "code",
   "execution_count": null,
   "metadata": {},
   "outputs": [],
   "source": []
  }
 ],
 "metadata": {
  "kernelspec": {
   "display_name": "Python 3",
   "language": "python",
   "name": "python3"
  },
  "language_info": {
   "codemirror_mode": {
    "name": "ipython",
    "version": 3
   },
   "file_extension": ".py",
   "mimetype": "text/x-python",
   "name": "python",
   "nbconvert_exporter": "python",
   "pygments_lexer": "ipython3",
   "version": "3.7.3"
  },
  "notify_time": "5",
  "toc": {
   "base_numbering": 1,
   "nav_menu": {},
   "number_sections": true,
   "sideBar": true,
   "skip_h1_title": false,
   "title_cell": "Table of Contents",
   "title_sidebar": "Contents",
   "toc_cell": false,
   "toc_position": {},
   "toc_section_display": true,
   "toc_window_display": true
  },
  "varInspector": {
   "cols": {
    "lenName": 16,
    "lenType": 16,
    "lenVar": 40
   },
   "kernels_config": {
    "python": {
     "delete_cmd_postfix": "",
     "delete_cmd_prefix": "del ",
     "library": "var_list.py",
     "varRefreshCmd": "print(var_dic_list())"
    },
    "r": {
     "delete_cmd_postfix": ") ",
     "delete_cmd_prefix": "rm(",
     "library": "var_list.r",
     "varRefreshCmd": "cat(var_dic_list()) "
    }
   },
   "types_to_exclude": [
    "module",
    "function",
    "builtin_function_or_method",
    "instance",
    "_Feature"
   ],
   "window_display": false
  }
 },
 "nbformat": 4,
 "nbformat_minor": 2
}
