{
 "cells": [
  {
   "cell_type": "markdown",
   "metadata": {},
   "source": [
    "# Ensemble"
   ]
  },
  {
   "cell_type": "markdown",
   "metadata": {},
   "source": [
    "## Voting"
   ]
  },
  {
   "cell_type": "code",
   "execution_count": 3,
   "metadata": {
    "ExecuteTime": {
     "end_time": "2019-12-22T14:56:32.437738Z",
     "start_time": "2019-12-22T14:55:57.964653Z"
    }
   },
   "outputs": [],
   "source": [
    "DT = joblib.load('Model_Parameter2/Tree_grid_search_reduce.pkl')\n",
    "RT = joblib.load('Model_Parameter2/Random_Forest_reduce.pkl')\n",
    "ET = joblib.load('Model_Parameter2/Extra_Forest_reduce.pkl')"
   ]
  },
  {
   "cell_type": "code",
   "execution_count": 4,
   "metadata": {
    "ExecuteTime": {
     "end_time": "2019-12-22T14:57:22.663572Z",
     "start_time": "2019-12-22T14:56:32.702041Z"
    }
   },
   "outputs": [
    {
     "data": {
      "text/plain": [
       "0.1521237695208241"
      ]
     },
     "execution_count": 4,
     "metadata": {},
     "output_type": "execute_result"
    }
   ],
   "source": [
    "from help import Voting, rmspe\n",
    "rmspe(Voting([DT, RT, ET], data = X_train_reduce), y_train)"
   ]
  },
  {
   "cell_type": "code",
   "execution_count": 3,
   "metadata": {
    "ExecuteTime": {
     "end_time": "2019-12-13T14:23:16.191169Z",
     "start_time": "2019-12-13T14:22:58.838616Z"
    }
   },
   "outputs": [
    {
     "data": {
      "text/plain": [
       "0.15885654810060176"
      ]
     },
     "execution_count": 3,
     "metadata": {},
     "output_type": "execute_result"
    }
   ],
   "source": [
    "from help import Voting, rmspe\n",
    "rmspe(Voting([DT, RT, ET], data = X_test_reduce), y_test)"
   ]
  },
  {
   "cell_type": "code",
   "execution_count": 7,
   "metadata": {
    "ExecuteTime": {
     "end_time": "2019-12-13T14:28:56.093291Z",
     "start_time": "2019-12-13T14:28:48.647527Z"
    }
   },
   "outputs": [],
   "source": [
    "submission = pd.read_csv('rossmann-store-sales/sample_submission.csv')\n",
    "submission['Sales'] = Voting([DT, RT, ET], data = X_predict_reduce)\n",
    "submission.to_csv('/Users/apple/Documents/Jupyter/Udacity/Rossmann_Store_Sales/submission.csv',\n",
    "                      index=False)"
   ]
  },
  {
   "cell_type": "markdown",
   "metadata": {},
   "source": [
    "## Bagging"
   ]
  },
  {
   "cell_type": "code",
   "execution_count": 4,
   "metadata": {
    "ExecuteTime": {
     "end_time": "2019-12-14T05:24:46.998871Z",
     "start_time": "2019-12-14T05:23:03.426891Z"
    }
   },
   "outputs": [
    {
     "name": "stdout",
     "output_type": "stream",
     "text": [
      "Fitting model...\n",
      "  Done!  \n",
      "  Using time: 91 sec\n",
      "\n",
      "Saving model...\n",
      "  The Model have been save in  ['Model_Parameter2/Bagging_reg_Decision_Tree_reduce.pkl']\n",
      "    PS: To load model, use command: 'Model = joblib.load(FileName)'.\n",
      "  Using time: 0 sec\n",
      "\n",
      "Calculating train score...\n",
      "  Train rmspe score: 0.18797\n",
      "  Using time: 7 sec\n",
      "\n",
      "Calculating test score...\n",
      "  Test rmspe score: 0.15228\n",
      "  Using time: 2 sec\n",
      "\n",
      "Predicting submission...\n",
      "  Done!\n",
      "  Using time: 0 sec\n",
      "\n",
      "Saving submission...\n",
      "  Done!\n",
      "  PS: To submit file, use command:\n",
      "    cd /Users/apple/Documents/Jupyter/Udacity/Rossmann_Store_Sales\n",
      "    kaggle competitions submit -c rossmann-store-sales -f submission.csv -m \"Message\"\n"
     ]
    }
   ],
   "source": [
    "from sklearn.ensemble import BaggingRegressor\n",
    "Base_Model = joblib.load('Model_Parameter2/Tree_grid_search_reduce.pkl').best_estimator_\n",
    "Bagging_reg_Decision_Tree_reduce = BaggingRegressor(Base_Model, n_estimators=30)\n",
    "\n",
    "import datetime\n",
    "starttime = datetime.datetime.now()\n",
    "print('Fitting model...')\n",
    "Bagging_reg_Decision_Tree_reduce.fit(X_train_reduce, y_train.values.ravel())\n",
    "endtime = datetime.datetime.now()\n",
    "print('  Done!  \\n  Using time:',(endtime - starttime).seconds,'sec\\n')\n",
    "\n",
    "Model = Bagging_reg_Decision_Tree_reduce\n",
    "FileName = 'Bagging_reg_Decision_Tree_reduce'\n",
    "from help import save_model\n",
    "save_model(Model, FileName, Best_Model=False)\n",
    "\n",
    "from help import train_test_score\n",
    "train_test_score(Model, X=X_reduce, y=y)\n",
    "\n",
    "from help import submission\n",
    "submission(Model, Save_File=True)"
   ]
  },
  {
   "cell_type": "markdown",
   "metadata": {},
   "source": [
    "## Adaboost"
   ]
  },
  {
   "cell_type": "code",
   "execution_count": 53,
   "metadata": {
    "ExecuteTime": {
     "end_time": "2019-12-13T17:35:19.247634Z",
     "start_time": "2019-12-13T17:33:15.575123Z"
    }
   },
   "outputs": [
    {
     "name": "stdout",
     "output_type": "stream",
     "text": [
      "Fitting model...\n",
      "  Done!  \n",
      "  Using time: 115 sec\n",
      "\n",
      "Saving model...\n",
      "  The Model have been save in  ['Model_Parameter2/Ada_reg_Decision_Tree_reduce.pkl']\n",
      "    PS: To load model, use command: 'Model = joblib.load(FileName)'.\n",
      "  Using time: 0 sec\n",
      "\n",
      "Calculating train score...\n",
      "  Train rmspe score: 0.15907\n",
      "  Using time: 5 sec\n",
      "\n",
      "Calculating test score...\n",
      "  Test rmspe score: 0.15879\n",
      "  Using time: 1 sec\n",
      "\n",
      "Predicting submission...\n",
      "  Done!\n",
      "  Using time: 0 sec\n",
      "\n",
      "Saving submission...\n",
      "  Done!\n",
      "  PS: To submit file, use command:\n",
      "    cd /Users/apple/Documents/Jupyter/Udacity/Rossmann_Store_Sales\n",
      "    kaggle competitions submit -c rossmann-store-sales -f submission.csv -m \"Message\"\n"
     ]
    }
   ],
   "source": [
    "from sklearn.ensemble import AdaBoostRegressor\n",
    "Base_Model = joblib.load('Model_Parameter2/Tree_grid_search_reduce.pkl').best_estimator_\n",
    "Ada_reg_Decision_Tree_reduce = AdaBoostRegressor(Base_Model, n_estimators=25,\n",
    "                                          learning_rate=1)\n",
    "import datetime\n",
    "starttime = datetime.datetime.now()\n",
    "print('Fitting model...')\n",
    "Ada_reg_Decision_Tree_reduce.fit(X_train_reduce, y_train.values.ravel())\n",
    "endtime = datetime.datetime.now()\n",
    "print('  Done!  \\n  Using time:',(endtime - starttime).seconds,'sec\\n')\n",
    "\n",
    "Model = Ada_reg_Decision_Tree_reduce\n",
    "FileName = 'Ada_reg_Decision_Tree_reduce'\n",
    "from help import save_model\n",
    "save_model(Model, FileName, Best_Model=False)\n",
    "\n",
    "from help import train_test_score\n",
    "train_test_score(Model, X=X_reduce, y=y)\n",
    "\n",
    "from help import submission\n",
    "submission(Model, Save_File=True)"
   ]
  },
  {
   "cell_type": "markdown",
   "metadata": {},
   "source": [
    "## GBRT"
   ]
  },
  {
   "cell_type": "code",
   "execution_count": 6,
   "metadata": {
    "ExecuteTime": {
     "end_time": "2019-12-14T05:56:57.427063Z",
     "start_time": "2019-12-14T05:53:13.910684Z"
    }
   },
   "outputs": [
    {
     "name": "stdout",
     "output_type": "stream",
     "text": [
      "Fitting model...\n",
      "  Done!  \n",
      "  Using time: 207 sec\n",
      "\n",
      "Saving model...\n",
      "  The Model have been save in  ['Model_Parameter2/GBRT_reg_Decision_Tree_reduce.pkl']\n",
      "    PS: To load model, use command: 'Model = joblib.load(FileName)'.\n",
      "  Using time: 2 sec\n",
      "\n",
      "Calculating train score...\n",
      "  Train rmspe score: 0.15961\n",
      "  Using time: 9 sec\n",
      "\n",
      "Calculating test score...\n",
      "  Test rmspe score: 0.15607\n",
      "  Using time: 3 sec\n",
      "\n",
      "Predicting submission...\n",
      "  Done!\n",
      "  Using time: 0 sec\n",
      "\n",
      "Saving submission...\n",
      "  Done!\n",
      "  PS: To submit file, use command:\n",
      "    cd /Users/apple/Documents/Jupyter/Udacity/Rossmann_Store_Sales\n",
      "    kaggle competitions submit -c rossmann-store-sales -f submission.csv -m \"Message\"\n"
     ]
    }
   ],
   "source": [
    "from sklearn.ensemble import GradientBoostingRegressor\n",
    "GBRT_reg_Decision_Tree_reduce = GradientBoostingRegressor(n_estimators=40,\n",
    "    criterion='mse', max_depth=60, max_features=None,\n",
    "    max_leaf_nodes=None, min_impurity_decrease=0.0,\n",
    "    min_impurity_split=None, min_samples_leaf=4,\n",
    "    min_samples_split=20, min_weight_fraction_leaf=0.0,\n",
    "    presort=False, random_state=None)\n",
    "\n",
    "import datetime\n",
    "starttime = datetime.datetime.now()\n",
    "print('Fitting model...')\n",
    "GBRT_reg_Decision_Tree_reduce.fit(X_train_reduce, y_train.values.ravel())\n",
    "endtime = datetime.datetime.now()\n",
    "print('  Done!  \\n  Using time:',(endtime - starttime).seconds,'sec\\n')\n",
    "\n",
    "Model = GBRT_reg_Decision_Tree_reduce\n",
    "FileName = 'GBRT_reg_Decision_Tree_reduce'\n",
    "from help import save_model\n",
    "save_model(Model, FileName, Best_Model=False)\n",
    "\n",
    "from help import train_test_score\n",
    "train_test_score(Model, X=X_reduce, y=y)\n",
    "\n",
    "from help import submission\n",
    "submission(Model, Save_File=True)"
   ]
  }
 ],
 "metadata": {
  "kernelspec": {
   "display_name": "Python 3",
   "language": "python",
   "name": "python3"
  },
  "language_info": {
   "codemirror_mode": {
    "name": "ipython",
    "version": 3
   },
   "file_extension": ".py",
   "mimetype": "text/x-python",
   "name": "python",
   "nbconvert_exporter": "python",
   "pygments_lexer": "ipython3",
   "version": "3.7.3"
  },
  "notify_time": "0",
  "toc": {
   "base_numbering": 1,
   "nav_menu": {},
   "number_sections": true,
   "sideBar": true,
   "skip_h1_title": false,
   "title_cell": "Table of Contents",
   "title_sidebar": "Contents",
   "toc_cell": false,
   "toc_position": {
    "height": "calc(100% - 180px)",
    "left": "10px",
    "top": "150px",
    "width": "222.60870361328125px"
   },
   "toc_section_display": true,
   "toc_window_display": false
  },
  "varInspector": {
   "cols": {
    "lenName": 16,
    "lenType": 16,
    "lenVar": 40
   },
   "kernels_config": {
    "python": {
     "delete_cmd_postfix": "",
     "delete_cmd_prefix": "del ",
     "library": "var_list.py",
     "varRefreshCmd": "print(var_dic_list())"
    },
    "r": {
     "delete_cmd_postfix": ") ",
     "delete_cmd_prefix": "rm(",
     "library": "var_list.r",
     "varRefreshCmd": "cat(var_dic_list()) "
    }
   },
   "types_to_exclude": [
    "module",
    "function",
    "builtin_function_or_method",
    "instance",
    "_Feature"
   ],
   "window_display": false
  }
 },
 "nbformat": 4,
 "nbformat_minor": 2
}
