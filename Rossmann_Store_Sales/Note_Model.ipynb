{
 "cells": [
  {
   "cell_type": "markdown",
   "metadata": {},
   "source": [
    "# 数据准备\n",
    "\n",
    "## 数据预处理"
   ]
  },
  {
   "cell_type": "code",
   "execution_count": 1,
   "metadata": {
    "ExecuteTime": {
     "end_time": "2019-12-08T15:04:22.027199Z",
     "start_time": "2019-12-08T15:04:20.555457Z"
    }
   },
   "outputs": [],
   "source": [
    "import numpy as np\n",
    "import pandas as pd\n",
    "import matplotlib.pyplot as plt\n",
    "import seaborn as sns\n",
    "%config InlineBackend.figure_format='retina'"
   ]
  },
  {
   "cell_type": "code",
   "execution_count": 2,
   "metadata": {
    "ExecuteTime": {
     "end_time": "2019-12-08T15:04:37.642710Z",
     "start_time": "2019-12-08T15:04:22.029268Z"
    },
    "scrolled": false
   },
   "outputs": [
    {
     "name": "stdout",
     "output_type": "stream",
     "text": [
      "Loading train data...\n"
     ]
    },
    {
     "name": "stderr",
     "output_type": "stream",
     "text": [
      "//anaconda3/lib/python3.7/site-packages/IPython/core/interactiveshell.py:3249: DtypeWarning: Columns (8) have mixed types. Specify dtype option on import or set low_memory=False.\n",
      "  if (await self.run_code(code, result,  async_=asy)):\n",
      "//anaconda3/lib/python3.7/site-packages/numpy/lib/arraysetops.py:568: FutureWarning: elementwise comparison failed; returning scalar instead, but in the future will perform elementwise comparison\n",
      "  mask |= (ar1 == a)\n"
     ]
    },
    {
     "name": "stdout",
     "output_type": "stream",
     "text": [
      "Loading test data...\n",
      "Loading store data...\n",
      "  Successfully read data as: train, test, store.\n",
      "\n",
      "Preprocessing training data...\n",
      "  Successfully preprocess training data.\n",
      "\n",
      "Preprocessing testing data...\n",
      "  Successfully preprocess testing data.\n",
      "\n"
     ]
    }
   ],
   "source": [
    "from help import read_data, data_preprocess\n",
    "train, test, store = read_data()\n",
    "X, y, X_predict = data_preprocess(train, test, store)\n",
    "del train, test, store"
   ]
  },
  {
   "cell_type": "markdown",
   "metadata": {},
   "source": [
    "## 数据划分"
   ]
  },
  {
   "cell_type": "code",
   "execution_count": 3,
   "metadata": {
    "ExecuteTime": {
     "end_time": "2019-12-08T15:04:38.267187Z",
     "start_time": "2019-12-08T15:04:37.646961Z"
    }
   },
   "outputs": [],
   "source": [
    "from sklearn.model_selection import train_test_split\n",
    "X_train, X_test, y_train, y_test = train_test_split(X, y)"
   ]
  },
  {
   "cell_type": "markdown",
   "metadata": {},
   "source": [
    "# 模型\n",
    "\n",
    "[定义评分函数：](https://www.cnblogs.com/harvey888/p/6964741.html)"
   ]
  },
  {
   "cell_type": "code",
   "execution_count": 4,
   "metadata": {
    "ExecuteTime": {
     "end_time": "2019-12-08T15:04:38.273792Z",
     "start_time": "2019-12-08T15:04:38.269170Z"
    }
   },
   "outputs": [],
   "source": [
    "from help import rmspe\n",
    "from sklearn.metrics import make_scorer\n",
    "respe_scorer = make_scorer(rmspe, greater_is_better=False)"
   ]
  },
  {
   "cell_type": "markdown",
   "metadata": {},
   "source": [
    "## 多元回归"
   ]
  },
  {
   "cell_type": "markdown",
   "metadata": {},
   "source": [
    "### 线性回归"
   ]
  },
  {
   "cell_type": "code",
   "execution_count": 21,
   "metadata": {
    "ExecuteTime": {
     "end_time": "2019-12-08T15:13:08.391469Z",
     "start_time": "2019-12-08T15:13:06.911582Z"
    },
    "scrolled": true
   },
   "outputs": [
    {
     "name": "stdout",
     "output_type": "stream",
     "text": [
      "train rmspe score:  0.4758226182059794\n",
      "test rmspe score:  0.44749689096534584\n"
     ]
    }
   ],
   "source": [
    "from sklearn.linear_model import LinearRegression\n",
    "Linear_Model = LinearRegression()\n",
    "Linear_Model.fit(X_train, y_train)\n",
    "\n",
    "import joblib\n",
    "FileName = 'Model_Parameter/'+'Linear_Model'+'.pkl'\n",
    "joblib.dump(Model, FileName) \n",
    "# Linear_Model = joblib.load(FileName)\n",
    "\n",
    "from help import rmspe\n",
    "y_train_hat = Linear_Model.predict(X_train)\n",
    "print('train rmspe score: ',rmspe(y_train_hat, y_train))\n",
    "y_test_hat = Linear_Model.predict(X_test)\n",
    "print('test rmspe score: ',rmspe(y_test_hat, y_test))"
   ]
  },
  {
   "cell_type": "markdown",
   "metadata": {},
   "source": [
    "### 多项式回归"
   ]
  },
  {
   "cell_type": "code",
   "execution_count": 23,
   "metadata": {
    "ExecuteTime": {
     "end_time": "2019-12-08T15:15:33.397992Z",
     "start_time": "2019-12-08T15:13:49.935836Z"
    }
   },
   "outputs": [
    {
     "data": {
      "text/plain": [
       "['Model_Parameter/Ploy_Res_Model.pkl']"
      ]
     },
     "execution_count": 23,
     "metadata": {},
     "output_type": "execute_result"
    }
   ],
   "source": [
    "from sklearn.preprocessing import PolynomialFeatures\n",
    "from sklearn.linear_model import LinearRegression\n",
    "from sklearn.pipeline import Pipeline\n",
    "Ploy_Res_Model = Pipeline([('poly', PolynomialFeatures(degree=3)),\n",
    "                  ('linear', LinearRegression())])\n",
    "Ploy_Res_Model.fit(X_train[:6000], y_train[:6000])\n",
    "\n",
    "import joblib\n",
    "FileName = 'Model_Parameter/'+'Ploy_Res_Model'+'.pkl'\n",
    "joblib.dump(Model, FileName) "
   ]
  },
  {
   "cell_type": "code",
   "execution_count": 24,
   "metadata": {
    "ExecuteTime": {
     "end_time": "2019-12-08T15:17:31.954606Z",
     "start_time": "2019-12-08T15:15:41.183682Z"
    }
   },
   "outputs": [
    {
     "name": "stdout",
     "output_type": "stream",
     "text": [
      "train rmspe score:  0.33897864536219596\n",
      "test rmspe score:  9909741421.722847\n"
     ]
    }
   ],
   "source": [
    "from help import rmspe\n",
    "y_train_hat = Ploy_Res_Model.predict(X_train[:6000])\n",
    "print('train rmspe score: ',rmspe(y_train_hat, y_train[:6000]))\n",
    "y_test_hat = Ploy_Res_Model.predict(X_test)\n",
    "print('test rmspe score: ',rmspe(y_test_hat, y_test))"
   ]
  },
  {
   "cell_type": "markdown",
   "metadata": {},
   "source": [
    "## SVR"
   ]
  },
  {
   "cell_type": "markdown",
   "metadata": {},
   "source": [
    "### LinearSVR"
   ]
  },
  {
   "cell_type": "code",
   "execution_count": 25,
   "metadata": {
    "ExecuteTime": {
     "end_time": "2019-12-08T15:29:02.856319Z",
     "start_time": "2019-12-08T15:29:00.135645Z"
    },
    "scrolled": true
   },
   "outputs": [
    {
     "name": "stdout",
     "output_type": "stream",
     "text": [
      "train rmspe score:  0.4337112882677548\n",
      "test rmspe score:  0.40784632317003394\n"
     ]
    }
   ],
   "source": [
    "from sklearn.svm import LinearSVR\n",
    "Linear_SVR = LinearSVR()\n",
    "Linear_SVR.fit(X_train, y_train)\n",
    "\n",
    "import joblib\n",
    "FileName = 'Model_Parameter/'+'Linear_SVR'+'.pkl'\n",
    "joblib.dump(Model, FileName) \n",
    "\n",
    "from help import rmspe\n",
    "y_train_hat = Linear_SVR.predict(X_train)\n",
    "y_test_hat = Linear_SVR.predict(X_test)\n",
    "print('train rmspe score: ',rmspe(y_train_hat, y_train))\n",
    "print('test rmspe score: ',rmspe(y_test_hat, y_test))"
   ]
  },
  {
   "cell_type": "code",
   "execution_count": 26,
   "metadata": {
    "ExecuteTime": {
     "end_time": "2019-12-08T15:29:40.231795Z",
     "start_time": "2019-12-08T15:29:33.960742Z"
    },
    "scrolled": true
   },
   "outputs": [
    {
     "data": {
      "text/plain": [
       "['Model_Parameter/Linear_SVR_grid_search.pkl']"
      ]
     },
     "execution_count": 26,
     "metadata": {},
     "output_type": "execute_result"
    }
   ],
   "source": [
    "from sklearn.svm import LinearSVR\n",
    "from sklearn.model_selection import GridSearchCV\n",
    "param_grid = {'C': [0.001, 0.01, 0.1, 1, 10, 100, 1000],\n",
    "              'epsilon': [0, 0.01, 0.1, 1, 10],\n",
    "              'max_iter': [1000]}\n",
    "\n",
    "Linear_SVR_grid_search = GridSearchCV(LinearSVR(), param_grid, cv=5, \n",
    "                                      n_jobs=-1, return_train_score=True,\n",
    "                                     scoring=respe_scorer)\n",
    "Linear_SVR_grid_search.fit(X_train[:10000], y_train[:10000])\n",
    "\n",
    "import joblib\n",
    "FileName = 'Model_Parameter/'+'Linear_SVR_grid_search'+'.pkl'\n",
    "joblib.dump(Model, FileName) "
   ]
  },
  {
   "cell_type": "code",
   "execution_count": 27,
   "metadata": {
    "ExecuteTime": {
     "end_time": "2019-12-08T15:29:49.717714Z",
     "start_time": "2019-12-08T15:29:49.709566Z"
    }
   },
   "outputs": [
    {
     "data": {
      "text/plain": [
       "LinearSVR(C=1000, dual=True, epsilon=0.1, fit_intercept=True,\n",
       "          intercept_scaling=1.0, loss='epsilon_insensitive', max_iter=1000,\n",
       "          random_state=None, tol=0.0001, verbose=0)"
      ]
     },
     "execution_count": 27,
     "metadata": {},
     "output_type": "execute_result"
    }
   ],
   "source": [
    "Linear_SVR_grid_search.best_estimator_"
   ]
  },
  {
   "cell_type": "code",
   "execution_count": 28,
   "metadata": {
    "ExecuteTime": {
     "end_time": "2019-12-08T15:29:58.498786Z",
     "start_time": "2019-12-08T15:29:58.469265Z"
    }
   },
   "outputs": [
    {
     "name": "stdout",
     "output_type": "stream",
     "text": [
      "train rmspe score:  0.40222952160414394\n",
      "test rmspe score:  0.4086374977505892\n"
     ]
    }
   ],
   "source": [
    "from help import rmspe\n",
    "y_train_hat = Linear_SVR_grid_search.predict(X_train[:10000])\n",
    "print('train rmspe score: ',rmspe(y_train_hat, y_train[:10000]))\n",
    "y_test_hat = Linear_SVR_grid_search.predict(X_test[:10000])\n",
    "print('test rmspe score: ',rmspe(y_test_hat, y_test[:10000]))"
   ]
  },
  {
   "cell_type": "markdown",
   "metadata": {},
   "source": [
    "### KernelSVR"
   ]
  },
  {
   "cell_type": "code",
   "execution_count": 30,
   "metadata": {
    "ExecuteTime": {
     "end_time": "2019-12-08T15:32:27.072765Z",
     "start_time": "2019-12-08T15:31:39.501071Z"
    },
    "scrolled": true
   },
   "outputs": [
    {
     "name": "stdout",
     "output_type": "stream",
     "text": [
      "GridSearchCV(cv=2, error_score='raise-deprecating',\n",
      "             estimator=SVR(C=1.0, cache_size=200, coef0=0.0, degree=3,\n",
      "                           epsilon=0.1, gamma='auto_deprecated', kernel='rbf',\n",
      "                           max_iter=-1, shrinking=True, tol=0.001,\n",
      "                           verbose=False),\n",
      "             iid='warn', n_jobs=-1,\n",
      "             param_grid={'C': [1], 'degree': [1, 3, 5, 7],\n",
      "                         'epsilon': [0, 0.01, 0.1, 1, 10], 'gamma': ['auto'],\n",
      "                         'kernel': ['rbf', 'poly'], 'max_iter': [-1]},\n",
      "             pre_dispatch='2*n_jobs', refit=True, return_train_score=True,\n",
      "             scoring=make_scorer(rmspe, greater_is_better=False), verbose=0)\n"
     ]
    },
    {
     "data": {
      "text/plain": [
       "['Model_Parameter/SVR_grid_search.pkl']"
      ]
     },
     "execution_count": 30,
     "metadata": {},
     "output_type": "execute_result"
    }
   ],
   "source": [
    "from sklearn.svm import SVR\n",
    "from sklearn.model_selection import GridSearchCV\n",
    "param_grid = {'kernel':['rbf', 'poly'],\n",
    "              'C': [1],\n",
    "              'epsilon': [0, 0.01, 0.1, 1, 10],\n",
    "              'degree': [1, 3, 5, 7],\n",
    "              'gamma': ['auto'],\n",
    "              'max_iter': [-1]}\n",
    "\n",
    "SVR_grid_search = GridSearchCV(SVR(), param_grid, cv=2, \n",
    "                               n_jobs=-1, return_train_score=True,\n",
    "                              scoring=respe_scorer)\n",
    "SVR_grid_search.fit(X_train[:6000], y_train[:6000])\n",
    "\n",
    "print(SVR_grid_search)\n",
    "import joblib\n",
    "FileName = 'Model_Parameter/'+'SVR_grid_search'+'.pkl'\n",
    "joblib.dump(Model, FileName) "
   ]
  },
  {
   "cell_type": "code",
   "execution_count": 31,
   "metadata": {
    "ExecuteTime": {
     "end_time": "2019-12-08T15:32:35.119213Z",
     "start_time": "2019-12-08T15:32:35.109992Z"
    }
   },
   "outputs": [
    {
     "data": {
      "text/plain": [
       "SVR(C=1, cache_size=200, coef0=0.0, degree=1, epsilon=0, gamma='auto',\n",
       "    kernel='poly', max_iter=-1, shrinking=True, tol=0.001, verbose=False)"
      ]
     },
     "execution_count": 31,
     "metadata": {},
     "output_type": "execute_result"
    }
   ],
   "source": [
    "SVR_grid_search.best_estimator_"
   ]
  },
  {
   "cell_type": "code",
   "execution_count": 32,
   "metadata": {
    "ExecuteTime": {
     "end_time": "2019-12-08T15:32:45.618032Z",
     "start_time": "2019-12-08T15:32:43.513130Z"
    }
   },
   "outputs": [
    {
     "name": "stdout",
     "output_type": "stream",
     "text": [
      "train rmspe score:  0.42596767822063136\n",
      "test rmspe score:  0.4358476143737631\n"
     ]
    }
   ],
   "source": [
    "from help import rmspe\n",
    "y_train_hat = SVR_grid_search.predict(X_train[:6000])\n",
    "print('train rmspe score: ',rmspe(y_train_hat, y_train[:6000]))\n",
    "y_test_hat = SVR_grid_search.predict(X_test[:6000])\n",
    "print('test rmspe score: ',rmspe(y_test_hat, y_test[:6000]))"
   ]
  },
  {
   "cell_type": "markdown",
   "metadata": {},
   "source": [
    "## 决策树"
   ]
  },
  {
   "cell_type": "code",
   "execution_count": null,
   "metadata": {},
   "outputs": [],
   "source": [
    "from sklearn.model_selection import GridSearchCV\n",
    "\n",
    "clf = DecisionTreeClassifier(random_state=42)\n",
    "\n",
    "# 生成参数列表\n",
    "parameters = {'max_depth':[2,4,6,8,10],'min_samples_leaf':[2,4,6,8,10], 'min_samples_split':[2,4,6,8,10]}\n",
    "\n",
    "# 定义计分器\n",
    "scorer = make_scorer(f1_score)\n",
    "\n",
    "# 生成网络搜索器\n",
    "grid_obj = GridSearchCV(clf, parameters, scoring=scorer)\n",
    "\n",
    "# 拟合网络搜索器\n",
    "grid_fit = grid_obj.fit(X_train, y_train)"
   ]
  }
 ],
 "metadata": {
  "kernelspec": {
   "display_name": "Python 3",
   "language": "python",
   "name": "python3"
  },
  "language_info": {
   "codemirror_mode": {
    "name": "ipython",
    "version": 3
   },
   "file_extension": ".py",
   "mimetype": "text/x-python",
   "name": "python",
   "nbconvert_exporter": "python",
   "pygments_lexer": "ipython3",
   "version": "3.7.3"
  },
  "notify_time": "5",
  "toc": {
   "base_numbering": 1,
   "nav_menu": {},
   "number_sections": true,
   "sideBar": true,
   "skip_h1_title": false,
   "title_cell": "Table of Contents",
   "title_sidebar": "Contents",
   "toc_cell": false,
   "toc_position": {},
   "toc_section_display": true,
   "toc_window_display": true
  },
  "varInspector": {
   "cols": {
    "lenName": 16,
    "lenType": 16,
    "lenVar": 40
   },
   "kernels_config": {
    "python": {
     "delete_cmd_postfix": "",
     "delete_cmd_prefix": "del ",
     "library": "var_list.py",
     "varRefreshCmd": "print(var_dic_list())"
    },
    "r": {
     "delete_cmd_postfix": ") ",
     "delete_cmd_prefix": "rm(",
     "library": "var_list.r",
     "varRefreshCmd": "cat(var_dic_list()) "
    }
   },
   "oldHeight": 255.99185705184937,
   "position": {
    "height": "277.7309875488281px",
    "left": "2.8043477535247803px",
    "right": "20px",
    "top": "338.9918518066406px",
    "width": "217.24185180664062px"
   },
   "types_to_exclude": [
    "module",
    "function",
    "builtin_function_or_method",
    "instance",
    "_Feature"
   ],
   "varInspector_section_display": "block",
   "window_display": false
  }
 },
 "nbformat": 4,
 "nbformat_minor": 4
}
