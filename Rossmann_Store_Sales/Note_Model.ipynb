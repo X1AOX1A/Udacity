{
 "cells": [
  {
   "cell_type": "code",
   "execution_count": 1,
   "metadata": {
    "ExecuteTime": {
     "end_time": "2019-12-06T13:42:04.649130Z",
     "start_time": "2019-12-06T13:42:02.736740Z"
    }
   },
   "outputs": [],
   "source": [
    "import numpy as np\n",
    "import pandas as pd\n",
    "import matplotlib.pyplot as plt\n",
    "import seaborn as sns\n",
    "%config InlineBackend.figure_format='retina'"
   ]
  },
  {
   "cell_type": "code",
   "execution_count": 2,
   "metadata": {
    "ExecuteTime": {
     "end_time": "2019-12-06T13:42:05.696557Z",
     "start_time": "2019-12-06T13:42:04.650998Z"
    }
   },
   "outputs": [
    {
     "name": "stderr",
     "output_type": "stream",
     "text": [
      "//anaconda3/lib/python3.7/site-packages/IPython/core/interactiveshell.py:3058: DtypeWarning: Columns (8) have mixed types. Specify dtype option on import or set low_memory=False.\n",
      "  interactivity=interactivity, compiler=compiler, result=result)\n",
      "//anaconda3/lib/python3.7/site-packages/numpy/lib/arraysetops.py:568: FutureWarning: elementwise comparison failed; returning scalar instead, but in the future will perform elementwise comparison\n",
      "  mask |= (ar1 == a)\n"
     ]
    }
   ],
   "source": [
    "store = pd.read_csv('data/store.csv', index_col = 0)\n",
    "train = pd.read_csv('data/train.csv', index_col = 0)\n",
    "test = pd.read_csv('data/test.csv', index_col = 0)"
   ]
  },
  {
   "cell_type": "code",
   "execution_count": 3,
   "metadata": {
    "ExecuteTime": {
     "end_time": "2019-12-06T13:42:16.797794Z",
     "start_time": "2019-12-06T13:42:05.700636Z"
    },
    "scrolled": true
   },
   "outputs": [],
   "source": [
    "from help import BOW, data_preprocess\n",
    "\n",
    "store_pre, Bow_Matrix = BOW(Data=store)\n",
    "X1 = data_preprocess(train.drop(['Sales','Customers'], axis=1),\n",
    "                       extend_data=store_pre, BOW_key = Bow_Matrix.columns)\n",
    "X2 = data_preprocess(test.drop('Id', axis=1),\n",
    "                            extend_data=store_pre, BOW_key = Bow_Matrix.columns)\n",
    "X2[['StateHoliday_b', 'StateHoliday_c']] = pd.DataFrame(np.zeros((len(test),2)), \n",
    "                                                               columns=['StateHoliday_b', 'StateHoliday_c'], \n",
    "                                                               dtype='uint8')\n",
    "y1 = train['Sales']\n",
    "del store, test, train, store_pre, Bow_Matrix"
   ]
  }
 ],
 "metadata": {
  "kernelspec": {
   "display_name": "Python 3",
   "language": "python",
   "name": "python3"
  },
  "language_info": {
   "codemirror_mode": {
    "name": "ipython",
    "version": 3
   },
   "file_extension": ".py",
   "mimetype": "text/x-python",
   "name": "python",
   "nbconvert_exporter": "python",
   "pygments_lexer": "ipython3",
   "version": "3.7.3"
  },
  "toc": {
   "base_numbering": 1,
   "nav_menu": {},
   "number_sections": true,
   "sideBar": true,
   "skip_h1_title": false,
   "title_cell": "Table of Contents",
   "title_sidebar": "Contents",
   "toc_cell": false,
   "toc_position": {},
   "toc_section_display": true,
   "toc_window_display": true
  },
  "varInspector": {
   "cols": {
    "lenName": 16,
    "lenType": 16,
    "lenVar": 40
   },
   "kernels_config": {
    "python": {
     "delete_cmd_postfix": "",
     "delete_cmd_prefix": "del ",
     "library": "var_list.py",
     "varRefreshCmd": "print(var_dic_list())"
    },
    "r": {
     "delete_cmd_postfix": ") ",
     "delete_cmd_prefix": "rm(",
     "library": "var_list.r",
     "varRefreshCmd": "cat(var_dic_list()) "
    }
   },
   "oldHeight": 255.99185705184937,
   "position": {
    "height": "277.7309875488281px",
    "left": "-5.20648193359375px",
    "right": "20px",
    "top": "355.99456787109375px",
    "width": "234.51087951660156px"
   },
   "types_to_exclude": [
    "module",
    "function",
    "builtin_function_or_method",
    "instance",
    "_Feature"
   ],
   "varInspector_section_display": "block",
   "window_display": true
  }
 },
 "nbformat": 4,
 "nbformat_minor": 4
}
