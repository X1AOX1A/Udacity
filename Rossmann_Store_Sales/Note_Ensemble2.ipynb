{
 "cells": [
  {
   "cell_type": "markdown",
   "metadata": {},
   "source": [
    "# 数据导入"
   ]
  },
  {
   "cell_type": "code",
   "execution_count": 1,
   "metadata": {
    "ExecuteTime": {
     "end_time": "2019-12-22T14:55:37.212125Z",
     "start_time": "2019-12-22T14:55:28.076519Z"
    }
   },
   "outputs": [
    {
     "name": "stderr",
     "output_type": "stream",
     "text": [
      "//anaconda3/lib/python3.7/site-packages/numpy/lib/arraysetops.py:568: FutureWarning: elementwise comparison failed; returning scalar instead, but in the future will perform elementwise comparison\n",
      "  mask |= (ar1 == a)\n"
     ]
    }
   ],
   "source": [
    "import numpy as np\n",
    "import pandas as pd\n",
    "import matplotlib.pyplot as plt\n",
    "import seaborn as sns\n",
    "import joblib\n",
    "%config InlineBackend.figure_format='retina'\n",
    "\n",
    "from help import rmspe\n",
    "from sklearn.metrics import make_scorer\n",
    "respe_scorer = make_scorer(rmspe, greater_is_better=False)\n",
    "\n",
    "from sklearn.model_selection import train_test_split\n",
    "X_reduce = pd.read_csv('data/X_reduce.csv', index_col = 0)\n",
    "X_predict_reduce = pd.read_csv('data/X_predict_reduce.csv', index_col = 0)\n",
    "y = pd.read_csv('data/y.csv',header=None ,index_col = 0)\n",
    "X_train_reduce, X_test_reduce, y_train, y_test = train_test_split(X_reduce, y, random_state=520)"
   ]
  },
  {
   "cell_type": "markdown",
   "metadata": {},
   "source": [
    "| No | Model | FileName | Fitting Time | Fitting Size | Train Score(Size) |Train Time| Test Score(Size) | Test Time|\n",
    "| ------ | ------ | ------ | ------ | ------ | ------ | ------ | ------ | ------ | \n",
    "1.1| LinearRegression | Linear_Model.pkl | 1 | Full | 0.47828(Full) | 0 | 0.44169(Full) | 0 |\n",
    "1.2| LinearRegression | Linear_Model_reduce.pkl | 0 | Full | 0.48339(Full) | 0 | 0.44654(Full) | 0 |\n",
    "2.1| PolyLinearRegression | Ploy_Res_Model.pkl | 247 | 10000 | 0.34748(10000) | 1 | 9441074912.83404(Full) | 0 |\n",
    "2.2| PolyLinearRegression | Ploy_Res_Model_reduce.pkl | 9 | Full | 0.45909(Full) | 2 | 0.42838(Full) | 0 |\n",
    "3.1| RidgeSGDRegressor | Ridge_Sgd_Reg.pkl | 217 | Full | 0.47596(Full) | 0 | 0.43908(Full) | 0 |\n",
    "3.2| RidgeSGDRegressor | Ridge_Sgd_Reg_reduce.pkl | 161 | Full | 0.48172(Full) | 0 | 0.44459(Full) | 0 |\n",
    "4.2| KNeighborsRegressor | KNN_grid_search_reduce.pkl | 279 | 40000 | 0.43738(Full) | 50 | 0.40825(Full) | 16 |\n",
    "|||||\n",
    "5.1| LinearSVR | Linear_SVR_grid_search.pkl | 8 | 10000 | 0.44014(Full) | 0 | 0.40504(Full) | 0 |\n",
    "5.2| LinearSVR | Linear_SVR_grid_search_reduce.pkl | 13 | 10000 | 0.44698(Full) | 0 | 0.41071(Full) | 0 |\n",
    "6.1| KernelSVR | Kernel_SVR_grid_search.pkl | 170 | 6000 | 0.45887(Full) | 142 | 0.42404(Full) | 44 |\n",
    "6.2| KernelSVR | Kernel_SVR_grid_search_reduce.pkl | 86 | 6000 | 0.45467(Full) | 66 | 0.41992(Full) | 30 |\n",
    "|||||\n",
    "7.1| DecisionTreeRegressor | Tree_grid_search.pkl | 694 | Full | 0.18543(Full) | 0 | 0.15738(Full) | 0 |\n",
    "7.2| DecisionTreeRegressor | Tree_grid_search_reduce.pkl | 353 | Full | 0.19027(Full) | 0 | 0.16006(Full) | 0 |\n",
    "8.2| RandomForestRegressor | Random_Forest_reduce.pkl | 162 | Full | 0.13618(Full) | 25 | 0.16447(Full) | 5 |\n",
    "9.2| ExtraTreesRegressor | Extra_Forest_reduce.pkl | 126 | Full | 0.13985(Full) | 22 | 0.16773(Full) | 10 |\n",
    "|  |  |  |  |  |  |  |  |\n",
    "10.2| BaggingLinearReg | Bagging_reg_Linear_Model_reduce.pkl | 23 | Full | 0.48347(Full) | 0 | 0.44661(Full) | 0 |\n",
    "11.2| BaggingLinearSVR | BaggingReg_Linear_SVR_reduce.pkl | 48 | 10000 | 0.44708(Full) | 4 | 0.41076(Full) | 3 |\n",
    "12.2| BaggingDecisionTree | Bagging_reg_Decision_Tree_reduce.pkl | 91 | Full | 0.18797(Full) | 7 | 0.15228(Full) | 2 |\n",
    "13.2| AdaDecisionTree | Ada_reg_Decision_Tree_reduce.pkl | 115 | Full | 0.15907(Full) | 5 | 0.15879(Full) | 1 |\n",
    "14.2| GBRT | GBRT_reg_Decision_Tree_reduce.pkl | 207 | Full |0.15961(Full) | 9 | 0.15607(Full) | 3 |\n",
    "15.2| XGBoost | XGBoostReg_reduce_log2.pkl | 1917 | Full |0.15860(Full) | 420 | 0.12349(Full) | 16 |\n",
    "|  |  |  |  |  |  |  |  |"
   ]
  },
  {
   "cell_type": "markdown",
   "metadata": {},
   "source": [
    "从前面的模型来看，可以发现以下几点规律：\n",
    "\n",
    "1. 选模型（X.2）与全模型（X.1）相比，测试准确率上几乎相同，但模型训练时间却大幅下降；\n",
    "\n",
    "2. 树模型在预测效果上远远高于其他模型"
   ]
  },
  {
   "cell_type": "markdown",
   "metadata": {},
   "source": [
    "# Ensemble"
   ]
  },
  {
   "cell_type": "markdown",
   "metadata": {},
   "source": [
    "## Voting"
   ]
  },
  {
   "cell_type": "code",
   "execution_count": 3,
   "metadata": {
    "ExecuteTime": {
     "end_time": "2019-12-22T14:56:32.437738Z",
     "start_time": "2019-12-22T14:55:57.964653Z"
    }
   },
   "outputs": [],
   "source": [
    "DT = joblib.load('Model_Parameter2/Tree_grid_search_reduce.pkl')\n",
    "RT = joblib.load('Model_Parameter2/Random_Forest_reduce.pkl')\n",
    "ET = joblib.load('Model_Parameter2/Extra_Forest_reduce.pkl')"
   ]
  },
  {
   "cell_type": "code",
   "execution_count": 4,
   "metadata": {
    "ExecuteTime": {
     "end_time": "2019-12-22T14:57:22.663572Z",
     "start_time": "2019-12-22T14:56:32.702041Z"
    }
   },
   "outputs": [
    {
     "data": {
      "text/plain": [
       "0.1521237695208241"
      ]
     },
     "execution_count": 4,
     "metadata": {},
     "output_type": "execute_result"
    }
   ],
   "source": [
    "from help import Voting, rmspe\n",
    "rmspe(Voting([DT, RT, ET], data = X_train_reduce), y_train)"
   ]
  },
  {
   "cell_type": "code",
   "execution_count": 3,
   "metadata": {
    "ExecuteTime": {
     "end_time": "2019-12-13T14:23:16.191169Z",
     "start_time": "2019-12-13T14:22:58.838616Z"
    }
   },
   "outputs": [
    {
     "data": {
      "text/plain": [
       "0.15885654810060176"
      ]
     },
     "execution_count": 3,
     "metadata": {},
     "output_type": "execute_result"
    }
   ],
   "source": [
    "from help import Voting, rmspe\n",
    "rmspe(Voting([DT, RT, ET], data = X_test_reduce), y_test)"
   ]
  },
  {
   "cell_type": "code",
   "execution_count": 7,
   "metadata": {
    "ExecuteTime": {
     "end_time": "2019-12-13T14:28:56.093291Z",
     "start_time": "2019-12-13T14:28:48.647527Z"
    }
   },
   "outputs": [],
   "source": [
    "submission = pd.read_csv('rossmann-store-sales/sample_submission.csv')\n",
    "submission['Sales'] = Voting([DT, RT, ET], data = X_predict_reduce)\n",
    "submission.to_csv('/Users/apple/Documents/Jupyter/Udacity/Rossmann_Store_Sales/submission.csv',\n",
    "                      index=False)"
   ]
  },
  {
   "cell_type": "markdown",
   "metadata": {},
   "source": [
    "## Bagging\n",
    "\n",
    "sklearn.ensemble.BaggingRegressor(base_estimator=None, n_estimators=10, max_samples=1.0, max_features=1.0, bootstrap=True, bootstrap_features=False, oob_score=False, warm_start=False, n_jobs=None, random_state=None, verbose=0)"
   ]
  },
  {
   "cell_type": "code",
   "execution_count": 4,
   "metadata": {
    "ExecuteTime": {
     "end_time": "2019-12-14T05:24:46.998871Z",
     "start_time": "2019-12-14T05:23:03.426891Z"
    }
   },
   "outputs": [
    {
     "name": "stdout",
     "output_type": "stream",
     "text": [
      "Fitting model...\n",
      "  Done!  \n",
      "  Using time: 91 sec\n",
      "\n",
      "Saving model...\n",
      "  The Model have been save in  ['Model_Parameter2/Bagging_reg_Decision_Tree_reduce.pkl']\n",
      "    PS: To load model, use command: 'Model = joblib.load(FileName)'.\n",
      "  Using time: 0 sec\n",
      "\n",
      "Calculating train score...\n",
      "  Train rmspe score: 0.18797\n",
      "  Using time: 7 sec\n",
      "\n",
      "Calculating test score...\n",
      "  Test rmspe score: 0.15228\n",
      "  Using time: 2 sec\n",
      "\n",
      "Predicting submission...\n",
      "  Done!\n",
      "  Using time: 0 sec\n",
      "\n",
      "Saving submission...\n",
      "  Done!\n",
      "  PS: To submit file, use command:\n",
      "    cd /Users/apple/Documents/Jupyter/Udacity/Rossmann_Store_Sales\n",
      "    kaggle competitions submit -c rossmann-store-sales -f submission.csv -m \"Message\"\n"
     ]
    }
   ],
   "source": [
    "from sklearn.ensemble import BaggingRegressor\n",
    "Base_Model = joblib.load('Model_Parameter2/Tree_grid_search_reduce.pkl').best_estimator_\n",
    "Bagging_reg_Decision_Tree_reduce = BaggingRegressor(Base_Model, n_estimators=30)\n",
    "\n",
    "import datetime\n",
    "starttime = datetime.datetime.now()\n",
    "print('Fitting model...')\n",
    "Bagging_reg_Decision_Tree_reduce.fit(X_train_reduce, y_train.values.ravel())\n",
    "endtime = datetime.datetime.now()\n",
    "print('  Done!  \\n  Using time:',(endtime - starttime).seconds,'sec\\n')\n",
    "\n",
    "Model = Bagging_reg_Decision_Tree_reduce\n",
    "FileName = 'Bagging_reg_Decision_Tree_reduce'\n",
    "from help import save_model\n",
    "save_model(Model, FileName, Best_Model=False)\n",
    "\n",
    "from help import train_test_score\n",
    "train_test_score(Model, X=X_reduce, y=y)\n",
    "\n",
    "from help import submission\n",
    "submission(Model, Save_File=True)"
   ]
  },
  {
   "cell_type": "markdown",
   "metadata": {},
   "source": [
    "## Adaboost\n",
    "\n",
    "klearn.ensemble.AdaBoostRegressor(base_estimator=None, n_estimators=50, learning_rate=1.0, loss='linear', random_state=None)"
   ]
  },
  {
   "cell_type": "code",
   "execution_count": 53,
   "metadata": {
    "ExecuteTime": {
     "end_time": "2019-12-13T17:35:19.247634Z",
     "start_time": "2019-12-13T17:33:15.575123Z"
    }
   },
   "outputs": [
    {
     "name": "stdout",
     "output_type": "stream",
     "text": [
      "Fitting model...\n",
      "  Done!  \n",
      "  Using time: 115 sec\n",
      "\n",
      "Saving model...\n",
      "  The Model have been save in  ['Model_Parameter2/Ada_reg_Decision_Tree_reduce.pkl']\n",
      "    PS: To load model, use command: 'Model = joblib.load(FileName)'.\n",
      "  Using time: 0 sec\n",
      "\n",
      "Calculating train score...\n",
      "  Train rmspe score: 0.15907\n",
      "  Using time: 5 sec\n",
      "\n",
      "Calculating test score...\n",
      "  Test rmspe score: 0.15879\n",
      "  Using time: 1 sec\n",
      "\n",
      "Predicting submission...\n",
      "  Done!\n",
      "  Using time: 0 sec\n",
      "\n",
      "Saving submission...\n",
      "  Done!\n",
      "  PS: To submit file, use command:\n",
      "    cd /Users/apple/Documents/Jupyter/Udacity/Rossmann_Store_Sales\n",
      "    kaggle competitions submit -c rossmann-store-sales -f submission.csv -m \"Message\"\n"
     ]
    }
   ],
   "source": [
    "from sklearn.ensemble import AdaBoostRegressor\n",
    "Base_Model = joblib.load('Model_Parameter2/Tree_grid_search_reduce.pkl').best_estimator_\n",
    "Ada_reg_Decision_Tree_reduce = AdaBoostRegressor(Base_Model, n_estimators=25,\n",
    "                                          learning_rate=1)\n",
    "import datetime\n",
    "starttime = datetime.datetime.now()\n",
    "print('Fitting model...')\n",
    "Ada_reg_Decision_Tree_reduce.fit(X_train_reduce, y_train.values.ravel())\n",
    "endtime = datetime.datetime.now()\n",
    "print('  Done!  \\n  Using time:',(endtime - starttime).seconds,'sec\\n')\n",
    "\n",
    "Model = Ada_reg_Decision_Tree_reduce\n",
    "FileName = 'Ada_reg_Decision_Tree_reduce'\n",
    "from help import save_model\n",
    "save_model(Model, FileName, Best_Model=False)\n",
    "\n",
    "from help import train_test_score\n",
    "train_test_score(Model, X=X_reduce, y=y)\n",
    "\n",
    "from help import submission\n",
    "submission(Model, Save_File=True)"
   ]
  },
  {
   "cell_type": "markdown",
   "metadata": {},
   "source": [
    "## GBRT\n",
    "\n",
    "``` Python\n",
    "sklearn.ensemble.GradientBoostingRegressor(loss='ls', learning_rate=0.1, n_estimators=100, subsample=1.0, criterion='friedman_mse', min_samples_split=2, min_samples_leaf=1, min_weight_fraction_leaf=0.0, max_depth=3, min_impurity_decrease=0.0, min_impurity_split=None, init=None, random_state=None, max_features=None, alpha=0.9, verbose=0, max_leaf_nodes=None, warm_start=False, presort='deprecated', validation_fraction=0.1, n_iter_no_change=None, tol=0.0001, ccp_alpha=0.0)\n",
    "```"
   ]
  },
  {
   "cell_type": "code",
   "execution_count": 5,
   "metadata": {
    "ExecuteTime": {
     "end_time": "2019-12-14T05:49:24.056029Z",
     "start_time": "2019-12-14T05:46:38.371325Z"
    }
   },
   "outputs": [
    {
     "name": "stdout",
     "output_type": "stream",
     "text": [
      "Fitting model...\n",
      "  Done!  \n",
      "  Using time: 153 sec\n",
      "\n",
      "Saving model...\n",
      "  The Model have been save in  ['Model_Parameter2/GBRT_reg_Decision_Tree_reduce.pkl']\n",
      "    PS: To load model, use command: 'Model = joblib.load(FileName)'.\n",
      "  Using time: 1 sec\n",
      "\n",
      "Calculating train score...\n",
      "  Train rmspe score: 0.16818\n",
      "  Using time: 7 sec\n",
      "\n",
      "Calculating test score...\n",
      "  Test rmspe score: 0.15479\n",
      "  Using time: 2 sec\n",
      "\n",
      "Predicting submission...\n",
      "  Done!\n",
      "  Using time: 0 sec\n",
      "\n",
      "Saving submission...\n",
      "  Done!\n",
      "  PS: To submit file, use command:\n",
      "    cd /Users/apple/Documents/Jupyter/Udacity/Rossmann_Store_Sales\n",
      "    kaggle competitions submit -c rossmann-store-sales -f submission.csv -m \"Message\"\n"
     ]
    }
   ],
   "source": [
    "from sklearn.ensemble import GradientBoostingRegressor\n",
    "GBRT_reg_Decision_Tree_reduce = GradientBoostingRegressor(n_estimators=30,\n",
    "    criterion='mse', max_depth=60, max_features=None,\n",
    "    max_leaf_nodes=None, min_impurity_decrease=0.0,\n",
    "    min_impurity_split=None, min_samples_leaf=4,\n",
    "    min_samples_split=20, min_weight_fraction_leaf=0.0,\n",
    "    presort=False, random_state=None)\n",
    "\n",
    "import datetime\n",
    "starttime = datetime.datetime.now()\n",
    "print('Fitting model...')\n",
    "GBRT_reg_Decision_Tree_reduce.fit(X_train_reduce, y_train.values.ravel())\n",
    "endtime = datetime.datetime.now()\n",
    "print('  Done!  \\n  Using time:',(endtime - starttime).seconds,'sec\\n')\n",
    "\n",
    "Model = GBRT_reg_Decision_Tree_reduce\n",
    "FileName = 'GBRT_reg_Decision_Tree_reduce'\n",
    "from help import save_model\n",
    "save_model(Model, FileName, Best_Model=False)\n",
    "\n",
    "from help import train_test_score\n",
    "train_test_score(Model, X=X_reduce, y=y)\n",
    "\n",
    "from help import submission\n",
    "submission(Model, Save_File=True)"
   ]
  },
  {
   "cell_type": "code",
   "execution_count": 6,
   "metadata": {
    "ExecuteTime": {
     "end_time": "2019-12-14T05:56:57.427063Z",
     "start_time": "2019-12-14T05:53:13.910684Z"
    }
   },
   "outputs": [
    {
     "name": "stdout",
     "output_type": "stream",
     "text": [
      "Fitting model...\n",
      "  Done!  \n",
      "  Using time: 207 sec\n",
      "\n",
      "Saving model...\n",
      "  The Model have been save in  ['Model_Parameter2/GBRT_reg_Decision_Tree_reduce.pkl']\n",
      "    PS: To load model, use command: 'Model = joblib.load(FileName)'.\n",
      "  Using time: 2 sec\n",
      "\n",
      "Calculating train score...\n",
      "  Train rmspe score: 0.15961\n",
      "  Using time: 9 sec\n",
      "\n",
      "Calculating test score...\n",
      "  Test rmspe score: 0.15607\n",
      "  Using time: 3 sec\n",
      "\n",
      "Predicting submission...\n",
      "  Done!\n",
      "  Using time: 0 sec\n",
      "\n",
      "Saving submission...\n",
      "  Done!\n",
      "  PS: To submit file, use command:\n",
      "    cd /Users/apple/Documents/Jupyter/Udacity/Rossmann_Store_Sales\n",
      "    kaggle competitions submit -c rossmann-store-sales -f submission.csv -m \"Message\"\n"
     ]
    }
   ],
   "source": [
    "from sklearn.ensemble import GradientBoostingRegressor\n",
    "GBRT_reg_Decision_Tree_reduce = GradientBoostingRegressor(n_estimators=40,\n",
    "    criterion='mse', max_depth=60, max_features=None,\n",
    "    max_leaf_nodes=None, min_impurity_decrease=0.0,\n",
    "    min_impurity_split=None, min_samples_leaf=4,\n",
    "    min_samples_split=20, min_weight_fraction_leaf=0.0,\n",
    "    presort=False, random_state=None)\n",
    "\n",
    "import datetime\n",
    "starttime = datetime.datetime.now()\n",
    "print('Fitting model...')\n",
    "GBRT_reg_Decision_Tree_reduce.fit(X_train_reduce, y_train.values.ravel())\n",
    "endtime = datetime.datetime.now()\n",
    "print('  Done!  \\n  Using time:',(endtime - starttime).seconds,'sec\\n')\n",
    "\n",
    "Model = GBRT_reg_Decision_Tree_reduce\n",
    "FileName = 'GBRT_reg_Decision_Tree_reduce'\n",
    "from help import save_model\n",
    "save_model(Model, FileName, Best_Model=False)\n",
    "\n",
    "from help import train_test_score\n",
    "train_test_score(Model, X=X_reduce, y=y)\n",
    "\n",
    "from help import submission\n",
    "submission(Model, Save_File=True)"
   ]
  },
  {
   "cell_type": "markdown",
   "metadata": {},
   "source": [
    "## [XGBoost](https://xgboost.readthedocs.io/en/latest/python/python_api.html#module-xgboost.sklearn)\n",
    "\n",
    "xgboost.XGBRegressor(max_depth=3, learning_rate=0.1, n_estimators=100, verbosity=1, objective='reg:squarederror', booster='gbtree', tree_method='auto', n_jobs=1, gamma=0, min_child_weight=1, max_delta_step=0, subsample=1, colsample_bytree=1, colsample_bylevel=1, colsample_bynode=1, reg_alpha=0, reg_lambda=1, scale_pos_weight=1, base_score=0.5, random_state=0, missing=None, num_parallel_tree=1, importance_type='gain', **kwargs)"
   ]
  },
  {
   "cell_type": "markdown",
   "metadata": {},
   "source": [
    "``` Python\n",
    "XGBoostReg = XGBRegressor(\n",
    "silent=0 ,          # 设置成1则没有运行信息输出，最好是设置为0.是否在运行升级时打印消息。\n",
    "learning_rate= 0.3, # 如同学习率\n",
    "min_child_weight=1, # 这个参数默认是 1，是每个叶子里面 h 的和至少是多少，对正负样本不均衡时的 0-1 分类而言\n",
    "                    #假设 h 在 0.01 附近，min_child_weight 为 1 意味着叶子节点中最少需要包含 100 个样本。\n",
    "                    #这个参数非常影响结果，控制叶子节点中二阶导的和的最小值，该参数值越小，越容易 overfitting。\n",
    "max_depth=6,        # 构建树的深度，越大越容易过拟合\n",
    "gamma=0,            # 树的叶子节点上作进一步分区所需的最小损失减少,越大越保守，一般0.1、0.2这样子。\n",
    "subsample=1,        # 随机采样训练样本 训练实例的子采样比\n",
    "max_delta_step=0,   #最大增量步长，我们允许每个树的权重估计。\n",
    "colsample_bytree=1, # 生成树时进行的列采样 \n",
    "reg_lambda=1,       # 控制模型复杂度的权重值的L2正则化项参数，参数越大，模型越不容易过拟合。\n",
    "#reg_alpha=0, # L1 正则项参数\n",
    "#scale_pos_weight=1, #如果取值大于0的话，在类别样本不平衡的情况下有助于快速收敛。平衡正负权重\n",
    "#objective= 'multi:softmax', #多分类的问题 指定学习任务和相应的学习目标\n",
    "#num_class=10, # 类别数，多分类与 multisoftmax 并用\n",
    "n_estimators=100, #树的个数\n",
    "seed=1000 #随机种子\n",
    "#eval_metric= 'auc'\n",
    ")\n",
    "```"
   ]
  },
  {
   "cell_type": "markdown",
   "metadata": {},
   "source": [
    "### reduce"
   ]
  },
  {
   "cell_type": "code",
   "execution_count": 28,
   "metadata": {
    "ExecuteTime": {
     "end_time": "2019-12-14T07:29:26.039497Z",
     "start_time": "2019-12-14T07:25:00.856168Z"
    }
   },
   "outputs": [
    {
     "name": "stdout",
     "output_type": "stream",
     "text": [
      "Fitting model...\n",
      "[15:25:01] WARNING: src/objective/regression_obj.cu:152: reg:linear is now deprecated in favor of reg:squarederror.\n",
      "  Done!  \n",
      "  Using time: 218 sec\n",
      "\n",
      "Saving model...\n",
      "  The Model have been save in  ['Model_Parameter2/XGBoostReg_reduce.pkl']\n",
      "    PS: To load model, use command: 'Model = joblib.load(FileName)'.\n",
      "  Using time: 0 sec\n",
      "\n",
      "Calculating train score...\n",
      "  Train rmspe score: 0.14676\n",
      "  Using time: 29 sec\n",
      "\n",
      "Calculating test score...\n",
      "  Test rmspe score: 0.14924\n",
      "  Using time: 13 sec\n",
      "\n",
      "Predicting submission...\n",
      "  Done!\n",
      "  Using time: 1 sec\n",
      "\n",
      "Saving submission...\n",
      "  Done!\n",
      "  PS: To submit file, use command:\n",
      "    cd /Users/apple/Documents/Jupyter/Udacity/Rossmann_Store_Sales\n",
      "    kaggle competitions submit -c rossmann-store-sales -f submission.csv -m \"Message\"\n"
     ]
    }
   ],
   "source": [
    "from sklearn import metrics\n",
    "from xgboost.sklearn import XGBRegressor\n",
    "XGBoostReg_reduce = XGBRegressor(max_depth=25,\n",
    "                                 n_estimators=30,\n",
    "                                 learning_rate=0.1,\n",
    "                                 min_child_weight=0.7,\n",
    "                                 n_jobs=4)\n",
    "\n",
    "import datetime\n",
    "starttime = datetime.datetime.now()\n",
    "print('Fitting model...')\n",
    "XGBoostReg_reduce.fit(X_train_reduce, y_train.values.ravel(),eval_metric=respe_scorer)\n",
    "endtime = datetime.datetime.now()\n",
    "print('  Done!  \\n  Using time:',(endtime - starttime).seconds,'sec\\n')\n",
    "\n",
    "Model = XGBoostReg_reduce\n",
    "FileName = 'XGBoostReg_reduce'\n",
    "from help import save_model\n",
    "save_model(Model, FileName, Best_Model=False)\n",
    "\n",
    "from help import train_test_score\n",
    "train_test_score(Model, X=X_reduce, y=y)\n",
    "\n",
    "from help import submission\n",
    "submission(Model, Save_File=True)"
   ]
  },
  {
   "cell_type": "markdown",
   "metadata": {},
   "source": [
    "***"
   ]
  },
  {
   "cell_type": "markdown",
   "metadata": {},
   "source": [
    "### reduce+log"
   ]
  },
  {
   "cell_type": "code",
   "execution_count": 2,
   "metadata": {
    "ExecuteTime": {
     "end_time": "2019-12-14T10:06:19.000201Z",
     "start_time": "2019-12-14T10:06:18.967678Z"
    }
   },
   "outputs": [],
   "source": [
    "from help import rmspe_log\n",
    "respe_scorer_log = make_scorer(rmspe_log, greater_is_better=False)\n",
    "y_log = np.log1p(y)\n",
    "y_train_log = np.log1p(y_train)\n",
    "y_test = np.log1p(y_test)"
   ]
  },
  {
   "cell_type": "code",
   "execution_count": null,
   "metadata": {
    "ExecuteTime": {
     "start_time": "2019-12-14T08:22:23.855Z"
    }
   },
   "outputs": [
    {
     "name": "stdout",
     "output_type": "stream",
     "text": [
      "Fitting model...\n",
      "[16:22:24] WARNING: src/objective/regression_obj.cu:152: reg:linear is now deprecated in favor of reg:squarederror.\n",
      "  Done!  \n",
      "  Using time: 4360 sec\n",
      "\n",
      "Saving model...\n",
      "  The Model have been save in  ['Model_Parameter2/XGBoostReg_reduce_log.pkl']\n",
      "    PS: To load model, use command: 'Model = joblib.load(FileName)'.\n",
      "  Using time: 0 sec\n",
      "\n",
      "Calculating train score...\n",
      "  Train rmspe score: 0.15188\n",
      "  Using time: 1050 sec\n",
      "\n",
      "Calculating test score...\n",
      "  Test rmspe score: 0.13288\n",
      "  Using time: 99 sec\n",
      "\n",
      "Predicting submission...\n",
      "  Done!\n",
      "  Using time: 14 sec\n",
      "\n",
      "Saving submission...\n",
      "  Done!\n",
      "  PS: To submit file, use command:\n",
      "    cd /Users/apple/Documents/Jupyter/Udacity/Rossmann_Store_Sales\n",
      "    kaggle competitions submit -c rossmann-store-sales -f submission.csv -m \"Message\"\n",
      "[17:54:31] WARNING: src/objective/regression_obj.cu:152: reg:linear is now deprecated in favor of reg:squarederror.\n",
      "Calculating train score...\n",
      "  Train rmspe score: 0.15188\n",
      "  Using time: 546 sec\n",
      "\n",
      "Calculating test score...\n"
     ]
    }
   ],
   "source": [
    "from sklearn import metrics\n",
    "from xgboost.sklearn import XGBRegressor\n",
    "# XGBoostReg_reduce_log = XGBRegressor(max_depth=10,\n",
    "#                                  n_estimators=30,\n",
    "#                                  learning_rate=0.1,\n",
    "#                                  min_child_weight=0.7,\n",
    "#                                  n_jobs=4)\n",
    "XGBoostReg_reduce_log = XGBRegressor(max_depth=10,\n",
    "                                 n_estimators=1000,\n",
    "                                 subsample=0.9,\n",
    "                                 colsample_bytree=0.7,\n",
    "                                 n_jobs=4)\n",
    "\n",
    "import datetime\n",
    "starttime = datetime.datetime.now()\n",
    "print('Fitting model...')\n",
    "XGBoostReg_reduce_log.fit(X_train_reduce, y_train_log.values.ravel(),eval_metric=respe_scorer)\n",
    "endtime = datetime.datetime.now()\n",
    "print('  Done!  \\n  Using time:',(endtime - starttime).seconds,'sec\\n')\n",
    "\n",
    "Model = XGBoostReg_reduce_log\n",
    "FileName = 'XGBoostReg_reduce_log'\n",
    "from help import save_model\n",
    "save_model(Model, FileName, Best_Model=False)\n",
    "\n",
    "from help import train_test_score_log\n",
    "train_test_score_log(Model, X=X_reduce, y=y_log)\n",
    "\n",
    "from help import submission_log\n",
    "submission_log(Model, Save_File=True)"
   ]
  },
  {
   "cell_type": "markdown",
   "metadata": {},
   "source": [
    "### reduce+log+sort"
   ]
  },
  {
   "cell_type": "code",
   "execution_count": 2,
   "metadata": {
    "ExecuteTime": {
     "end_time": "2019-12-14T14:13:22.909768Z",
     "start_time": "2019-12-14T14:13:22.877869Z"
    }
   },
   "outputs": [],
   "source": [
    "from help import rmspe_log\n",
    "respe_scorer_log = make_scorer(rmspe_log, greater_is_better=False)\n",
    "y_log = np.log1p(y)\n",
    "y_train_log = y_log[6*7*1115:]\n",
    "y_test_log = y_log[:6*7*1115]\n",
    "\n",
    "X_train_reduce = X_reduce[6*7*1115:]\n",
    "X_test_reduce = X_reduce[:6*7*1115]"
   ]
  },
  {
   "cell_type": "code",
   "execution_count": 4,
   "metadata": {
    "ExecuteTime": {
     "end_time": "2019-12-14T14:21:42.951035Z",
     "start_time": "2019-12-14T14:14:38.001943Z"
    }
   },
   "outputs": [
    {
     "name": "stdout",
     "output_type": "stream",
     "text": [
      "[22:14:38] WARNING: src/objective/regression_obj.cu:152: reg:linear is now deprecated in favor of reg:squarederror.\n",
      "Predicting submission...\n",
      "  Done!\n",
      "  Using time: 18 sec\n",
      "\n",
      "Saving submission...\n",
      "  Done!\n",
      "  PS: To submit file, use command:\n",
      "    cd /Users/apple/Documents/Jupyter/Udacity/Rossmann_Store_Sales\n",
      "    kaggle competitions submit -c rossmann-store-sales -f submission.csv -m \"Message\"\n",
      "Calculating test score...\n",
      "  Test score 0.1234918654429577\n",
      "  Done!  \n",
      "  Using time: 13 sec\n",
      "\n",
      "Calculating train score...\n",
      "  Trian score 0.15899582254435649\n",
      "  Done!  \n",
      "  Using time: 393 sec\n",
      "\n"
     ]
    }
   ],
   "source": [
    "from sklearn import metrics\n",
    "from xgboost.sklearn import XGBRegressor\n",
    "XGBoostReg_reduce_log2 = XGBRegressor(max_depth=10,\n",
    "                                 n_estimators=1000,\n",
    "                                 subsample=0.9,\n",
    "                                 colsample_bytree=0.7,\n",
    "                                 n_jobs=4)\n",
    "\n",
    "import datetime\n",
    "starttime = datetime.datetime.now()\n",
    "print('Fitting model...')\n",
    "XGBoostReg_reduce_log2.fit(X_train_reduce, y_train_log.values.ravel(),eval_metric=respe_scorer)\n",
    "endtime = datetime.datetime.now()\n",
    "print('  Done!  \\n  Using time:',(endtime - starttime).seconds,'sec\\n')\n",
    "\n",
    "Model = XGBoostReg_reduce_log2\n",
    "FileName = 'XGBoostReg_reduce_log2'\n",
    "from help import save_model\n",
    "save_model(Model, FileName, Best_Model=False)\n",
    "\n",
    "# Model = joblib.load('Model_Parameter2/XGBoostReg_reduce_log2.pkl')\n",
    "from help import submission_log\n",
    "submission_log(Model, Save_File=True)\n",
    "\n",
    "from help import rmspe_log\n",
    "import datetime\n",
    "starttime = datetime.datetime.now()\n",
    "print('Calculating test score...')\n",
    "print('  Test score',rmspe_log( Model.predict(X_test_reduce), y_test_log))\n",
    "endtime = datetime.datetime.now()\n",
    "print('  Done!  \\n  Using time:',(endtime - starttime).seconds,'sec\\n')\n",
    "\n",
    "import datetime\n",
    "starttime = datetime.datetime.now()\n",
    "print('Calculating train score...')\n",
    "print('  Trian score',rmspe_log( Model.predict(X_train_reduce), y_train_log))\n",
    "endtime = datetime.datetime.now()\n",
    "print('  Done!  \\n  Using time:',(endtime - starttime).seconds,'sec\\n')"
   ]
  },
  {
   "cell_type": "code",
   "execution_count": null,
   "metadata": {},
   "outputs": [],
   "source": []
  }
 ],
 "metadata": {
  "kernelspec": {
   "display_name": "Python 3",
   "language": "python",
   "name": "python3"
  },
  "language_info": {
   "codemirror_mode": {
    "name": "ipython",
    "version": 3
   },
   "file_extension": ".py",
   "mimetype": "text/x-python",
   "name": "python",
   "nbconvert_exporter": "python",
   "pygments_lexer": "ipython3",
   "version": "3.7.3"
  },
  "notify_time": "0",
  "toc": {
   "base_numbering": 1,
   "nav_menu": {},
   "number_sections": true,
   "sideBar": true,
   "skip_h1_title": false,
   "title_cell": "Table of Contents",
   "title_sidebar": "Contents",
   "toc_cell": false,
   "toc_position": {
    "height": "calc(100% - 180px)",
    "left": "10px",
    "top": "150px",
    "width": "222.60870361328125px"
   },
   "toc_section_display": true,
   "toc_window_display": false
  },
  "varInspector": {
   "cols": {
    "lenName": 16,
    "lenType": 16,
    "lenVar": 40
   },
   "kernels_config": {
    "python": {
     "delete_cmd_postfix": "",
     "delete_cmd_prefix": "del ",
     "library": "var_list.py",
     "varRefreshCmd": "print(var_dic_list())"
    },
    "r": {
     "delete_cmd_postfix": ") ",
     "delete_cmd_prefix": "rm(",
     "library": "var_list.r",
     "varRefreshCmd": "cat(var_dic_list()) "
    }
   },
   "types_to_exclude": [
    "module",
    "function",
    "builtin_function_or_method",
    "instance",
    "_Feature"
   ],
   "window_display": false
  }
 },
 "nbformat": 4,
 "nbformat_minor": 2
}
